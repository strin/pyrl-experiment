{
 "cells": [
  {
   "cell_type": "code",
   "execution_count": 159,
   "metadata": {
    "collapsed": false
   },
   "outputs": [],
   "source": [
    "%matplotlib inline\n",
    "from common_imports import *"
   ]
  },
  {
   "cell_type": "code",
   "execution_count": 160,
   "metadata": {
    "collapsed": false
   },
   "outputs": [],
   "source": [
    "H = W = 10\n",
    "grid = np.zeros((H, W))\n",
    "pos_list = [(0,0), (2,2), (4,4), (6,6), (8,8)]\n",
    "\n",
    "tasks = [GridWorldFixedStart(pos, grid=grid, action_stoch=0.2, goal={(H-1, W-1): 1.}, rewards={(H-1, W-1): 1.,}, wall_penalty=0., gamma=0.9)\n",
    "         for pos in pos_list]\n",
    "task0 = tasks[0]"
   ]
  },
  {
   "cell_type": "code",
   "execution_count": 161,
   "metadata": {
    "collapsed": true
   },
   "outputs": [],
   "source": [
    "# create the task.\n",
    "state_shape = task0.state_shape\n",
    "task = task0\n",
    "# define potential neural network architectures.\n",
    "def two_layer(states):\n",
    "    '''\n",
    "    two layer neural network with same number of hidden units.\n",
    "    '''\n",
    "    state_vecs = states.flatten(2)\n",
    "    return arch.two_layer(state_vecs, np.prod(task.state_shape), 32, task.num_actions)\n",
    "\n",
    "def conv_net(states):\n",
    "    '''\n",
    "    conv+max-pool layer first followed by a fully-connected layer.\n",
    "    '''\n",
    "    conv1 = Conv(1, output_dim=32, filter_size=(2,2), pool_size=(2,2), activation='relu')\n",
    "    h1 = conv1(states)\n",
    "    h1_dim = int((state_shape[0]-2+1)/2) * int((state_shape[1]-2+1)/2) * 32\n",
    "    h1 = h1.flatten(2)\n",
    "    fc1 = FullyConnected(input_dim=h1_dim, output_dim=32, activation='relu')\n",
    "    h2 = fc1(h1)\n",
    "    linear_layer = FullyConnected(input_dim=32, output_dim=task.num_actions, activation=None)\n",
    "    output = linear_layer(h2)\n",
    "    return (output, {\n",
    "        'conv1': conv1,\n",
    "        'fc1': fc1\n",
    "    })\n",
    "\n"
   ]
  },
  {
   "cell_type": "markdown",
   "metadata": {},
   "source": [
    "# meta-feature extractors."
   ]
  },
  {
   "cell_type": "code",
   "execution_count": 181,
   "metadata": {
    "collapsed": false
   },
   "outputs": [],
   "source": [
    "def feat_goal_dist(task):\n",
    "    return np.abs(task.start_pos[0] - W + 1) + np.abs(task.start_pos[1] - H + 1)\n",
    "\n",
    "def mf_goal_dist_interval(im_mem, curr_task, interval, win_size):\n",
    "    curr_feat = feat_goal_dist(curr_task)\n",
    "    if curr_feat < interval[0] or curr_feat >= interval[1]:\n",
    "        return 0.\n",
    "    avg_im = 0.\n",
    "    avg_count = 0\n",
    "    for (task, im) in im_mem[:-win_size-1:-1]:\n",
    "        feat = feat_goal_dist(task)\n",
    "        if feat >= interval[0] and feat < interval[1]:\n",
    "            avg_im += im\n",
    "            avg_count += 1\n",
    "    if avg_count == 0:\n",
    "        return 0.\n",
    "    else:\n",
    "        return avg_im / avg_count\n",
    "\n",
    "def mf_goal_dist_gen(interval, win_size):\n",
    "    class MFGoalDist(object):\n",
    "        def __call__(self, im_mem, curr_task):\n",
    "            return mf_goal_dist_interval(im_mem, curr_task, interval, win_size)\n",
    "        \n",
    "        def __repr__(self):\n",
    "            return str(interval) + '-' + str(win_size)\n",
    "    return MFGoalDist()\n",
    "\n",
    "intervals = [(0, 5), (3, 8), (5, 10), (8, 13), (10, 15), (13, 18), (15, 20)]\n",
    "mf_goal_dist_exs = [mf_goal_dist_gen(interval, win_size=3) for interval in intervals]"
   ]
  },
  {
   "cell_type": "markdown",
   "metadata": {},
   "source": [
    "# Train and Eval funcs"
   ]
  },
  {
   "cell_type": "code",
   "execution_count": null,
   "metadata": {
    "collapsed": false
   },
   "outputs": [],
   "source": [
    "dqn = DQN(task0, arch_func=conv_net, state_type=T.tensor4)\n",
    "\n"
   ]
  },
  {
   "cell_type": "code",
   "execution_count": null,
   "metadata": {
    "collapsed": false
   },
   "outputs": [],
   "source": [
    "learner = DeepQlearn(dqn, gamma=0.95, lr=1e-3, memory_size = 128, epsilon=0.1)\n",
    "budget = 20\n",
    "tol=1e-6\n",
    "train_func = lambda task:  learner.run(task, num_episodes = 10, tol=1e-6, budget=budget)\n",
    "eval_func = lambda policy, task: reward_stochastic(policy, task, gamma=tol**(1. / budget), num_trials=100, tol=tol)\n"
   ]
  },
  {
   "cell_type": "code",
   "execution_count": null,
   "metadata": {
    "collapsed": true
   },
   "outputs": [],
   "source": [
    "\n",
    "meta = DQCL.DriftExpert(dqn, mf_goal_dist_exs, train_func, eval_func, eta=1/50.)"
   ]
  },
  {
   "cell_type": "code",
   "execution_count": null,
   "metadata": {
    "collapsed": false,
    "scrolled": false
   },
   "outputs": [],
   "source": [
    "for it in range(100):\n",
    "    meta.run(tasks, num_epochs=1)\n",
    "    print 'iteration', it\n",
    "    print 'count'\n",
    "    pprint(meta.task_count)\n",
    "    print 'pred'\n",
    "    pprint(meta.im_pred)\n",
    "    print 'ucb'\n",
    "    pprint(meta.im_ucb)\n",
    "    print 'meta features'\n",
    "    pprint(meta.im_feat)\n",
    "    print 'im_mem'\n",
    "    pprint(meta.im_mem)\n",
    "    pprint(meta.diagnostics)\n",
    "    print '---------------------------------------'"
   ]
  },
  {
   "cell_type": "code",
   "execution_count": 124,
   "metadata": {
    "collapsed": false
   },
   "outputs": [
    {
     "data": {
      "text/plain": [
       "-0.013157894736842111"
      ]
     },
     "execution_count": 124,
     "metadata": {},
     "output_type": "execute_result"
    }
   ],
   "source": [
    "mf_goal_dist_exs[0](meta.im_mem, tasks[-1])"
   ]
  },
  {
   "cell_type": "code",
   "execution_count": 123,
   "metadata": {
    "collapsed": false
   },
   "outputs": [
    {
     "data": {
      "text/plain": [
       "-0.013157894736842111"
      ]
     },
     "execution_count": 123,
     "metadata": {},
     "output_type": "execute_result"
    }
   ],
   "source": [
    "mf_goal_dist_interval(meta.im_mem, tasks[-1], (0, 5))"
   ]
  },
  {
   "cell_type": "code",
   "execution_count": null,
   "metadata": {
    "collapsed": true
   },
   "outputs": [],
   "source": []
  }
 ],
 "metadata": {
  "kernelspec": {
   "display_name": "Python 2",
   "language": "python",
   "name": "python2"
  },
  "language_info": {
   "codemirror_mode": {
    "name": "ipython",
    "version": 2
   },
   "file_extension": ".py",
   "mimetype": "text/x-python",
   "name": "python",
   "nbconvert_exporter": "python",
   "pygments_lexer": "ipython2",
   "version": "2.7.10"
  }
 },
 "nbformat": 4,
 "nbformat_minor": 0
}
