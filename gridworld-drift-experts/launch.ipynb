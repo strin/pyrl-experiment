{
 "cells": [
  {
   "cell_type": "code",
   "execution_count": 1,
   "metadata": {
    "collapsed": false
   },
   "outputs": [
    {
     "name": "stdout",
     "output_type": "stream",
     "text": [
      "Switched to worksheet http://localhost:12800::gridworld-dot-at-corner-drift-expert(0x82959045476a4eda8513f8943a66ca01).\r\n"
     ]
    }
   ],
   "source": [
    "!cl work http://localhost:12800::gridworld-dot-at-corner-drift-expert\n"
   ]
  },
  {
   "cell_type": "code",
   "execution_count": 2,
   "metadata": {
    "collapsed": false
   },
   "outputs": [
    {
     "name": "stdout",
     "output_type": "stream",
     "text": [
      "0x346c5b8b732d48928da2d516eb7407d8\n"
     ]
    },
    {
     "name": "stderr",
     "output_type": "stream",
     "text": [
      "\r",
      "\u001b[KCopying ../../external/dill to /Users/tianlins/.codalab/temp/tmpZUa_Lm/dill \r",
      "\u001b[K \r",
      "\u001b[KZipping to /Users/tianlins/.codalab/temp/tmpZUa_Lm.zip \r",
      "Uploading /Users/tianlins/.codalab/temp/tmpZUa_Lm.zip to http://localhost:12800: 95.9K \r",
      "Uploading /Users/tianlins/.codalab/temp/tmpZUa_Lm.zip to http://localhost:12800: 95.9K [done]\n"
     ]
    }
   ],
   "source": [
    "%%bash\n",
    "cl upload program ../../external/dill"
   ]
  },
  {
   "cell_type": "code",
   "execution_count": 3,
   "metadata": {
    "collapsed": false
   },
   "outputs": [
    {
     "name": "stdout",
     "output_type": "stream",
     "text": [
      "0xf68efaad4b8048739f967479fa182362\n",
      "0xf1a076b97f1548689928e93e40ea4e09\n"
     ]
    },
    {
     "name": "stderr",
     "output_type": "stream",
     "text": [
      "\r",
      "\u001b[KCopying ../../pyrl to /Users/tianlins/.codalab/temp/tmpf0D9PT/pyrl \r",
      "\u001b[K \r",
      "\u001b[KZipping to /Users/tianlins/.codalab/temp/tmpf0D9PT.zip \r",
      "Uploading /Users/tianlins/.codalab/temp/tmpf0D9PT.zip to http://localhost:12800: 413K \r",
      "Uploading /Users/tianlins/.codalab/temp/tmpf0D9PT.zip to http://localhost:12800: 413K [done]\n",
      "\r",
      "\u001b[KCopying common_imports.py to /Users/tianlins/.codalab/temp/tmpIKbWVd/common_imports.py \r",
      "\u001b[K \r",
      "\u001b[KZipping to /Users/tianlins/.codalab/temp/tmpIKbWVd.zip \r",
      "Uploading /Users/tianlins/.codalab/temp/tmpIKbWVd.zip to http://localhost:12800: 467 \r",
      "Uploading /Users/tianlins/.codalab/temp/tmpIKbWVd.zip to http://localhost:12800: 467 [done]\n"
     ]
    }
   ],
   "source": [
    "%%bash\n",
    "cl upload program ../../pyrl\n",
    "cl upload program common_imports.py"
   ]
  },
  {
   "cell_type": "code",
   "execution_count": 4,
   "metadata": {
    "collapsed": false
   },
   "outputs": [
    {
     "name": "stdout",
     "output_type": "stream",
     "text": [
      "0x6266d1d8208448d9bb041d8a6b703d8f\n"
     ]
    },
    {
     "name": "stderr",
     "output_type": "stream",
     "text": [
      "\r",
      "\u001b[KCopying test_drift_expert.py to /Users/tianlins/.codalab/temp/tmpY3ewhk/test_drift_expert.py \r",
      "\u001b[K \r",
      "\u001b[KZipping to /Users/tianlins/.codalab/temp/tmpY3ewhk.zip \r",
      "Uploading /Users/tianlins/.codalab/temp/tmpY3ewhk.zip to http://localhost:12800: 1.4K \r",
      "Uploading /Users/tianlins/.codalab/temp/tmpY3ewhk.zip to http://localhost:12800: 1.4K [done]\n"
     ]
    }
   ],
   "source": [
    "%%bash\n",
    "cl upload program test_drift_expert.py"
   ]
  },
  {
   "cell_type": "code",
   "execution_count": 7,
   "metadata": {
    "collapsed": false
   },
   "outputs": [
    {
     "name": "stdout",
     "output_type": "stream",
     "text": [
      "0x3523c5de036643ed93b6b301617747c7\r\n"
     ]
    }
   ],
   "source": [
    "!cl run test.py:test_drift_expert.py :pyrl :dill :common_imports.py \"THEANO_FLAGS=blas.ldflags=-lopenblas output='result' python test.py;\""
   ]
  },
  {
   "cell_type": "code",
   "execution_count": null,
   "metadata": {
    "collapsed": true
   },
   "outputs": [],
   "source": []
  }
 ],
 "metadata": {
  "kernelspec": {
   "display_name": "Python 2",
   "language": "python",
   "name": "python2"
  },
  "language_info": {
   "codemirror_mode": {
    "name": "ipython",
    "version": 2
   },
   "file_extension": ".py",
   "mimetype": "text/x-python",
   "name": "python",
   "nbconvert_exporter": "python",
   "pygments_lexer": "ipython2",
   "version": "2.7.10"
  }
 },
 "nbformat": 4,
 "nbformat_minor": 0
}
