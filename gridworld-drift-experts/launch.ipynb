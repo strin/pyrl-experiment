{
 "cells": [
  {
   "cell_type": "code",
   "execution_count": 30,
   "metadata": {
    "collapsed": false
   },
   "outputs": [
    {
     "name": "stdout",
     "output_type": "stream",
     "text": [
      "Switched to worksheet http://localhost:12800::gridworld-dot-at-corner-drift-expert(0x82959045476a4eda8513f8943a66ca01).\r\n"
     ]
    }
   ],
   "source": [
    "!cl work http://localhost:12800::gridworld-dot-at-corner-drift-expert\n"
   ]
  },
  {
   "cell_type": "code",
   "execution_count": 10,
   "metadata": {
    "collapsed": false
   },
   "outputs": [
    {
     "name": "stdout",
     "output_type": "stream",
     "text": [
      "0x219142af30bf4abd9f070be06a00ddf2\n"
     ]
    },
    {
     "name": "stderr",
     "output_type": "stream",
     "text": [
      "\r",
      "\u001b[KCopying ../../external/dill to /Users/tianlins/.codalab/temp/tmp_TgqA2/dill \r",
      "\u001b[K \r",
      "\u001b[KZipping to /Users/tianlins/.codalab/temp/tmp_TgqA2.zip \r",
      "Uploading /Users/tianlins/.codalab/temp/tmp_TgqA2.zip to http://localhost:12800: 95.9K \r",
      "Uploading /Users/tianlins/.codalab/temp/tmp_TgqA2.zip to http://localhost:12800: 95.9K [done]\n"
     ]
    }
   ],
   "source": [
    "%%bash\n",
    "cl upload program ../../external/dill"
   ]
  },
  {
   "cell_type": "code",
   "execution_count": 11,
   "metadata": {
    "collapsed": false
   },
   "outputs": [
    {
     "name": "stdout",
     "output_type": "stream",
     "text": [
      "0xffbd5b28c4f74eb8aaa6153cfa47170b\n",
      "0x47563cff13984519bbcdc5447970979d\n"
     ]
    },
    {
     "name": "stderr",
     "output_type": "stream",
     "text": [
      "\r",
      "\u001b[KCopying ../../pyrl to /Users/tianlins/.codalab/temp/tmpcHrGOa/pyrl \r",
      "\u001b[K \r",
      "\u001b[KZipping to /Users/tianlins/.codalab/temp/tmpcHrGOa.zip \r",
      "Uploading /Users/tianlins/.codalab/temp/tmpcHrGOa.zip to http://localhost:12800: 414K \r",
      "Uploading /Users/tianlins/.codalab/temp/tmpcHrGOa.zip to http://localhost:12800: 414K [done]\n",
      "\r",
      "\u001b[KCopying common_imports.py to /Users/tianlins/.codalab/temp/tmpoSMOs0/common_imports.py \r",
      "\u001b[K \r",
      "\u001b[KZipping to /Users/tianlins/.codalab/temp/tmpoSMOs0.zip \r",
      "Uploading /Users/tianlins/.codalab/temp/tmpoSMOs0.zip to http://localhost:12800: 497 \r",
      "Uploading /Users/tianlins/.codalab/temp/tmpoSMOs0.zip to http://localhost:12800: 497 [done]\n"
     ]
    }
   ],
   "source": [
    "%%bash\n",
    "cl upload program ../../pyrl\n",
    "cl upload program common_imports.py"
   ]
  },
  {
   "cell_type": "code",
   "execution_count": 4,
   "metadata": {
    "collapsed": false
   },
   "outputs": [
    {
     "name": "stdout",
     "output_type": "stream",
     "text": [
      "0x6266d1d8208448d9bb041d8a6b703d8f\n"
     ]
    },
    {
     "name": "stderr",
     "output_type": "stream",
     "text": [
      "\r",
      "\u001b[KCopying test_drift_expert.py to /Users/tianlins/.codalab/temp/tmpY3ewhk/test_drift_expert.py \r",
      "\u001b[K \r",
      "\u001b[KZipping to /Users/tianlins/.codalab/temp/tmpY3ewhk.zip \r",
      "Uploading /Users/tianlins/.codalab/temp/tmpY3ewhk.zip to http://localhost:12800: 1.4K \r",
      "Uploading /Users/tianlins/.codalab/temp/tmpY3ewhk.zip to http://localhost:12800: 1.4K [done]\n"
     ]
    }
   ],
   "source": [
    "%%bash\n",
    "cl upload program test_drift_expert.py"
   ]
  },
  {
   "cell_type": "code",
   "execution_count": 9,
   "metadata": {
    "collapsed": false
   },
   "outputs": [
    {
     "name": "stdout",
     "output_type": "stream",
     "text": [
      "0x2dfe61a7e354499db29b03e415381294\r\n"
     ]
    }
   ],
   "source": [
    "!cl run test.py:test_drift_expert.py :pyrl :dill :common_imports.py \"THEANO_FLAGS=blas.ldflags=-lopenblas output='result' python test.py;\""
   ]
  },
  {
   "cell_type": "code",
   "execution_count": 24,
   "metadata": {
    "collapsed": false
   },
   "outputs": [
    {
     "name": "stdout",
     "output_type": "stream",
     "text": [
      "0xee94843a4a154befac073dbbce0bd5ee\n"
     ]
    },
    {
     "name": "stderr",
     "output_type": "stream",
     "text": [
      "\r",
      "\u001b[KCopying test_random.py to /Users/tianlins/.codalab/temp/tmpgRqURA/test_random.py \r",
      "\u001b[K \r",
      "\u001b[KZipping to /Users/tianlins/.codalab/temp/tmpgRqURA.zip \r",
      "Uploading /Users/tianlins/.codalab/temp/tmpgRqURA.zip to http://localhost:12800: 1.4K \r",
      "Uploading /Users/tianlins/.codalab/temp/tmpgRqURA.zip to http://localhost:12800: 1.4K [done]\n"
     ]
    }
   ],
   "source": [
    "%%bash\n",
    "cl upload program test_random.py"
   ]
  },
  {
   "cell_type": "code",
   "execution_count": 29,
   "metadata": {
    "collapsed": false
   },
   "outputs": [
    {
     "name": "stdout",
     "output_type": "stream",
     "text": [
      "0x1a9aad0042d6409fb2e54cca09675c14\r\n"
     ]
    }
   ],
   "source": [
    "!cl run test.py:test_random.py :pyrl :dill :common_imports.py \"THEANO_FLAGS=blas.ldflags=-lopenblas python test.py;\""
   ]
  },
  {
   "cell_type": "code",
   "execution_count": 18,
   "metadata": {
    "collapsed": false
   },
   "outputs": [
    {
     "name": "stdout",
     "output_type": "stream",
     "text": [
      "Uploading /Users/tianlins/.codalab/temp/tmpJTgHti.zip to http://localhost:12800: 1.9K [done]\n",
      "0x757a84cd52cc41e2b9455902d2c3b383\n"
     ]
    }
   ],
   "source": [
    "!cl upload program test_nb.py"
   ]
  },
  {
   "cell_type": "code",
   "execution_count": 31,
   "metadata": {
    "collapsed": false
   },
   "outputs": [
    {
     "name": "stdout",
     "output_type": "stream",
     "text": [
      "0x04cb173447e54ddf848c40311272f57a\r\n"
     ]
    }
   ],
   "source": [
    "!cl run test.py:test_nb.py :pyrl :dill :common_imports.py \"THEANO_FLAGS=blas.ldflags=-lopenblas python test.py;\""
   ]
  },
  {
   "cell_type": "code",
   "execution_count": null,
   "metadata": {
    "collapsed": true
   },
   "outputs": [],
   "source": []
  }
 ],
 "metadata": {
  "kernelspec": {
   "display_name": "Python 2",
   "language": "python",
   "name": "python2"
  },
  "language_info": {
   "codemirror_mode": {
    "name": "ipython",
    "version": 2
   },
   "file_extension": ".py",
   "mimetype": "text/x-python",
   "name": "python",
   "nbconvert_exporter": "python",
   "pygments_lexer": "ipython2",
   "version": "2.7.10"
  }
 },
 "nbformat": 4,
 "nbformat_minor": 0
}
