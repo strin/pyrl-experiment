{
 "cells": [
  {
   "cell_type": "code",
   "execution_count": 7,
   "metadata": {
    "collapsed": false
   },
   "outputs": [
    {
     "name": "stdout",
     "output_type": "stream",
     "text": [
      "Switched to worksheet http://localhost:12800::gridworld-dot-at-corner(0x1dc5588cf4774aff8c83937b73b4a88e).\r\n"
     ]
    }
   ],
   "source": [
    "!cl work http://localhost:12800::gridworld-dot-at-corner"
   ]
  },
  {
   "cell_type": "code",
   "execution_count": null,
   "metadata": {
    "collapsed": true
   },
   "outputs": [],
   "source": [
    "%%bash\n",
    "cl upload program test_ql.py\n",
    "cl upload program test_ql_budget_init.py\n",
    "cl upload program test_ql_budget.py"
   ]
  },
  {
   "cell_type": "code",
   "execution_count": 11,
   "metadata": {
    "collapsed": false
   },
   "outputs": [
    {
     "name": "stdout",
     "output_type": "stream",
     "text": [
      "0xed441398a017433c9575ad58235e7594\r\n"
     ]
    }
   ],
   "source": [
    "!cl run init.py:test_ql_budget_init.py test.py:test_ql_budget.py :pyrl :dill :common_imports.py \"mkdir result; THEANO_FLAGS=blas.ldflags=-lopenblas arch='conv_net' output='result' python init.py;\""
   ]
  },
  {
   "cell_type": "code",
   "execution_count": 14,
   "metadata": {
    "collapsed": false
   },
   "outputs": [
    {
     "name": "stdout",
     "output_type": "stream",
     "text": [
      "0x1\n"
     ]
    }
   ],
   "source": [
    "%%bash\n",
    "export model=0x1\n",
    "echo $model"
   ]
  },
  {
   "cell_type": "code",
   "execution_count": 19,
   "metadata": {
    "collapsed": false
   },
   "outputs": [
    {
     "name": "stdout",
     "output_type": "stream",
     "text": [
      "0x6b1a8e4ca09440c5824db0576e27a9bc\n",
      "0x9dcc137d5b804f20b217d471726f3b81\n",
      "0x12cb854bc9e84667acfe067d3fa91978\n",
      "0xf9e4b58051384012b3c1ae8d17af8bd8\n",
      "0x58620ca76d8a43b1b700fea76c74d5a3\n",
      "0x24d9191ad97647d4acea41a035caf81c\n",
      "0x2c4ad38fac0d4d018c80dc3fd1fc28dd\n",
      "0xcee2100e991c4b6fbfaa1b5b6399b619\n",
      "0x09099d67a50d442384b493db0dd4a074\n",
      "0xd59dc3a1696e40df92a232f9ece38e74\n",
      "0x1b68123eb2004daba3708beef2874d78\n",
      "0x592a38abbf5940b6959e44ef6d720562\n",
      "0x3d3b27bbf03343d0831c2a9a0642705c\n",
      "0x21752a57e5e8412197b7ec45b39045fd\n",
      "0xc0df7d191023466bbc878a89775c31ae\n",
      "0x4e6b9f99664043bdafb6185991974cca\n",
      "0xb58e37cccbe44093bd7a8342db60b54a\n",
      "0x7970ef725dba4ebeba6a6759cafa42ba\n",
      "0xd704ced0c0cf4f25baa000b7fbc79b87\n",
      "0xc4b76e3db84c4b1eb9b863d8a947f7cd\n",
      "0xf3d5f6478bc54f3cad5e7040411295f0\n",
      "0xce27406e4ec44537926982606f124796\n",
      "0xfa4867427b6645f0bb9716c1410bbbc7\n",
      "0xbf2c317047a642858cfa3ca4606bc655\n",
      "0xe1cdf253e4ad41fca91e0d493db14d5d\n",
      "0xfcf1b7c7f41c476fa08f7b6b155031b9\n",
      "0x9653ce8ef6c2416b87a25dbafc3f0233\n",
      "0x366bb7aef9c44b32b09689c38b14a6c7\n",
      "0x06a4575cfc614380a83dcd3493b336b5\n",
      "0xe8ceb312a970411d876796df0bc66e03\n",
      "0x2e03f9119a98413e89ae1217159fa494\n",
      "0x3f52284b5cc047c89e0a71bfa64404f3\n",
      "0x31fa3d9bcc894d71ba5f66d7660d1d9b\n",
      "0x2527c369cc364b4584762d96e32b44c8\n",
      "0x0b1c5cc51b784ed991a972688e63400c\n",
      "0x57b6c499c27a40a089bec2d97a9af0e4\n",
      "0xa5458055122a48e8948822a5854ad82a\n",
      "0xd0647b7826ce4526aee09f3092905a53\n",
      "0xbb777a7ce352493ba82f6e8c8941ec9d\n",
      "0xbd1118792a424e8099fc32d566ef0cca\n",
      "0x24adf16ef7fe4eeb9e18c4e217e201d5\n",
      "0x5e9fcf650d104cc98cb40b77a0f5589d\n",
      "0xc993a91abbc5447fa6c654d210eaf548\n",
      "0x467203749fc940e79e86ba658f849b79\n",
      "0x6f38ccdb690d43649688c719df21d0bf\n",
      "0x321f68d5ea8d4ec39f01928327cdce26\n",
      "0xb76128f8718945d9b9a501d4a101991f\n",
      "0xb54fa18fa25f428bb87a4b11941f14ea\n",
      "0x99fb94a14f7343f1a22360e12e593a2c\n",
      "0xcdea4ca51cdf4440b35830a4ccf930b0\n",
      "0x14663a8a4ce543989a6dba28807c43c2\n",
      "0xed115c0fa78b4636a0ca5995c7561647\n",
      "0xbe32b6d95f564d0698b7adad35441263\n",
      "0x3c79c9214aa949a9903e97aadc3d8e14\n",
      "0x04b2d664b7024c5fa74649d04be35f48\n",
      "0x83e5278cf1e547898380e4a0783003bd\n",
      "0x26e85fd90f8d4254bf05faf6f0565d1c\n",
      "0xd0e8fa8841144f9d97a90537d6486d33\n",
      "0x0ac6982e567a408295b8dd21db8f36d3\n",
      "0x4467033096e6458d8b5e09d3f3bda33e\n",
      "0x05b033fc45f24415ba32beab213764e1\n",
      "0xb528db6a830349c0b0d8ddc6b43b7cd0\n",
      "0xc98c4ee4a60a42dd891322fff0b4d726\n",
      "0xf891862b7bf6431e91b311d0b103b6dc\n",
      "0x982addd5b37949c3adbd361b07ed8e10\n",
      "0x8f649fd5db574b989f2fedbaa6eb2809\n",
      "0x333a0dd9e114431aa0e018f568dcec5e\n",
      "0x481d63ee1bdc421ca96efda0d6100678\n",
      "0xdefa8e7e207240c3aca8a1828714a1eb\n",
      "0xe3ba515e039942eeaa3aa519801e941a\n",
      "0xc529d0f08b85419089699133d140b88f\n",
      "0x3453bb4f051f49bbab38ca7a8cbbf862\n",
      "0x9239fa866ab14fb98161d8a0c2c22fa0\n",
      "0xb63131d0b4bc407ebe7ee92af458f665\n",
      "0x793bb1a5cc9b406b81f7236434640ae3\n",
      "0x9976c9376d4647af8ce3235b3191821b\n",
      "0x52a2167667f44de2a7a16481be3151bc\n",
      "0x1d7c747b98784e3fa1236a6f8c6bc3ef\n",
      "0xc6fbb5bd6b864d489df74c1b92e99561\n",
      "0xd95c90454f324ab1a6338187a4c8c7a8\n",
      "0x1c45b52be67a42edad407d78b53db68b\n",
      "0x7798329f443142c1b403f8e8e5b86483\n",
      "0x7c81219bf2514d32a6ed1c96b0dea163\n",
      "0x831757d66b3444d780f779df63b2f779\n",
      "0x8c77328fbaf0415aa35ade69019fd143\n",
      "0x5c7b46166610436183231f4820b00afe\n",
      "0x1e2adfcf79f44265871aa16da613c7b9\n",
      "0x1b8da58143a548e5b65ee21976f59389\n",
      "0xb4a34c5bbd8349998faac6d2e2c43df5\n",
      "0x1648a87cca3f4e5f9e766f536f4bd595\n",
      "0xd6cb423a61e74f3ebbe425139d459484\n",
      "0x0c0cf8231d31443ca80850d45c45ca89\n",
      "0x771f694a0cbf43f4b500e35095fd0379\n",
      "0x2dc9cc56f0464112b1e3a573e51240c8\n",
      "0x3d03439d4de34da2b0291eb64852c4f1\n",
      "0x7a825a8f31a744f89d20ebc900d3d224\n",
      "0xefce1b9d217e41329047a41eee80c65a\n",
      "0x800973ea9f2e4077b4bc44082bd1e459\n",
      "0x368c3d1038de4b61a132ec82201af973\n",
      "0x4001d8f89f684f1684f8dfcc3c2c546b\n"
     ]
    }
   ],
   "source": [
    "%%bash\n",
    "for x in `seq 0 9`:\n",
    "do\n",
    "    for y in `seq 0 9`:\n",
    "    do\n",
    "        cl run init.py:test_ql_budget_init.py test.py:test_ql_budget.py :pyrl :dill :common_imports.py result:0xed4413/result \"THEANO_FLAGS=blas.ldflags=-lopenblas arch='conv_net' output='result' x=$x y=$y budget=20 python test.py\"\n",
    "    done\n",
    "done"
   ]
  },
  {
   "cell_type": "code",
   "execution_count": null,
   "metadata": {
    "collapsed": true
   },
   "outputs": [],
   "source": []
  }
 ],
 "metadata": {
  "kernelspec": {
   "display_name": "Python 2",
   "language": "python",
   "name": "python2"
  },
  "language_info": {
   "codemirror_mode": {
    "name": "ipython",
    "version": 2
   },
   "file_extension": ".py",
   "mimetype": "text/x-python",
   "name": "python",
   "nbconvert_exporter": "python",
   "pygments_lexer": "ipython2",
   "version": "2.7.10"
  }
 },
 "nbformat": 4,
 "nbformat_minor": 0
}
