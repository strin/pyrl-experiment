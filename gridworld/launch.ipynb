{
 "cells": [
  {
   "cell_type": "code",
   "execution_count": 37,
   "metadata": {
    "collapsed": false
   },
   "outputs": [
    {
     "name": "stdout",
     "output_type": "stream",
     "text": [
      "Traceback (most recent call last):\r\n",
      "  File \"/Users/tianlins/Garage/codalab-cli/codalab/bin/../../codalab/bin/cl.py\", line 66, in <module>\r\n",
      "    run_cli()\r\n",
      "  File \"/Users/tianlins/Garage/codalab-cli/codalab/bin/../../codalab/bin/cl.py\", line 57, in run_cli\r\n",
      "    cli.do_command(sys.argv[1:])\r\n",
      "  File \"/Users/tianlins/Garage/codalab-cli/codalab/lib/bundle_cli.py\", line 598, in do_command\r\n",
      "    structured_result = command_fn()\r\n",
      "  File \"/Users/tianlins/Garage/codalab-cli/codalab/lib/bundle_cli.py\", line 580, in <lambda>\r\n",
      "    command_fn = lambda: args.function(self, args)\r\n",
      "  File \"/Users/tianlins/Garage/codalab-cli/codalab/lib/bundle_cli.py\", line 1580, in do_work_command\r\n",
      "    client, worksheet_uuid = self.parse_client_worksheet_uuid(args.worksheet_spec)\r\n",
      "  File \"/Users/tianlins/Garage/codalab-cli/codalab/lib/bundle_cli.py\", line 499, in parse_client_worksheet_uuid\r\n",
      "    worksheet_uuid = worksheet_util.get_worksheet_uuid(client, base_worksheet_uuid, spec)\r\n",
      "  File \"/Users/tianlins/Garage/codalab-cli/codalab/lib/worksheet_util.py\", line 256, in get_worksheet_uuid\r\n",
      "    worksheet_uuid = client.get_worksheet_uuid(base_worksheet_uuid, worksheet_spec)\r\n",
      "  File \"/Users/tianlins/Garage/codalab-cli/codalab/client/remote_bundle_client.py\", line 141, in inner\r\n",
      "    return getattr(self.proxy, command)(*args, **kwargs)\r\n",
      "  File \"/System/Library/Frameworks/Python.framework/Versions/2.7/lib/python2.7/xmlrpclib.py\", line 1240, in __call__\r\n",
      "    return self.__send(self.__name, args)\r\n",
      "  File \"/System/Library/Frameworks/Python.framework/Versions/2.7/lib/python2.7/xmlrpclib.py\", line 1599, in __request\r\n",
      "    verbose=self.__verbose\r\n",
      "  File \"/System/Library/Frameworks/Python.framework/Versions/2.7/lib/python2.7/xmlrpclib.py\", line 1280, in request\r\n",
      "    return self.single_request(host, handler, request_body, verbose)\r\n",
      "  File \"/System/Library/Frameworks/Python.framework/Versions/2.7/lib/python2.7/xmlrpclib.py\", line 1310, in single_request\r\n",
      "    response = h.getresponse(buffering=True)\r\n",
      "  File \"/System/Library/Frameworks/Python.framework/Versions/2.7/lib/python2.7/httplib.py\", line 1132, in getresponse\r\n",
      "    response.begin()\r\n",
      "  File \"/System/Library/Frameworks/Python.framework/Versions/2.7/lib/python2.7/httplib.py\", line 453, in begin\r\n",
      "    version, status, reason = self._read_status()\r\n",
      "  File \"/System/Library/Frameworks/Python.framework/Versions/2.7/lib/python2.7/httplib.py\", line 417, in _read_status\r\n",
      "    raise BadStatusLine(line)\r\n",
      "httplib.BadStatusLine: ''\r\n"
     ]
    }
   ],
   "source": [
    "!cl work http://localhost:12800::gridworld-dot-at-corner"
   ]
  },
  {
   "cell_type": "code",
   "execution_count": 27,
   "metadata": {
    "collapsed": false
   },
   "outputs": [
    {
     "name": "stdout",
     "output_type": "stream",
     "text": [
      "0x4eff7ef76f714e9799875a0738054fcb\n",
      "0xb0363033508b4d299bc65c368f974785\n"
     ]
    },
    {
     "name": "stderr",
     "output_type": "stream",
     "text": [
      "\r",
      "\u001b[KCopying ../../pyrl to /Users/tianlins/.codalab/temp/tmpkZHmUm/pyrl \r",
      "\u001b[K \r",
      "\u001b[KZipping to /Users/tianlins/.codalab/temp/tmpkZHmUm.zip \r",
      "Uploading /Users/tianlins/.codalab/temp/tmpkZHmUm.zip to http://localhost:12800: 432K \r",
      "Uploading /Users/tianlins/.codalab/temp/tmpkZHmUm.zip to http://localhost:12800: 432K [done]\n",
      "\r",
      "\u001b[KCopying ../../external/dill to /Users/tianlins/.codalab/temp/tmp_iKldm/dill \r",
      "\u001b[K \r",
      "\u001b[KZipping to /Users/tianlins/.codalab/temp/tmp_iKldm.zip \r",
      "Uploading /Users/tianlins/.codalab/temp/tmp_iKldm.zip to http://localhost:12800: 95.9K \r",
      "Uploading /Users/tianlins/.codalab/temp/tmp_iKldm.zip to http://localhost:12800: 95.9K [done]\n"
     ]
    }
   ],
   "source": [
    "%%bash\n",
    "cl upload ../../pyrl\n",
    "cl upload ../../external/dill"
   ]
  },
  {
   "cell_type": "code",
   "execution_count": 4,
   "metadata": {
    "collapsed": false
   },
   "outputs": [
    {
     "name": "stdout",
     "output_type": "stream",
     "text": [
      "0xa2e023ff347d40ff974083a3de7600d7\n",
      "0x76558ee173d849ac934234c137c2a813\n",
      "0x050ea98f8c9448ff9b932ed466693acd\n"
     ]
    },
    {
     "name": "stderr",
     "output_type": "stream",
     "text": [
      "\r",
      "\u001b[KCopying test_ql.py to /Users/tianlins/.codalab/temp/tmppNjcZH/test_ql.py \r",
      "\u001b[K \r",
      "\u001b[KZipping to /Users/tianlins/.codalab/temp/tmppNjcZH.zip \r",
      "Uploading /Users/tianlins/.codalab/temp/tmppNjcZH.zip to http://localhost:12800: 1.2K \r",
      "Uploading /Users/tianlins/.codalab/temp/tmppNjcZH.zip to http://localhost:12800: 1.2K [done]\n",
      "\r",
      "\u001b[KCopying test_ql_budget_init.py to /Users/tianlins/.codalab/temp/tmpASbGL9/test_ql_budget_init.py \r",
      "\u001b[K \r",
      "\u001b[KZipping to /Users/tianlins/.codalab/temp/tmpASbGL9.zip \r",
      "Uploading /Users/tianlins/.codalab/temp/tmpASbGL9.zip to http://localhost:12800: 884 \r",
      "Uploading /Users/tianlins/.codalab/temp/tmpASbGL9.zip to http://localhost:12800: 884 [done]\n",
      "\r",
      "\u001b[KCopying test_ql_budget.py to /Users/tianlins/.codalab/temp/tmp6AtGfG/test_ql_budget.py \r",
      "\u001b[K \r",
      "\u001b[KZipping to /Users/tianlins/.codalab/temp/tmp6AtGfG.zip \r",
      "Uploading /Users/tianlins/.codalab/temp/tmp6AtGfG.zip to http://localhost:12800: 889 \r",
      "Uploading /Users/tianlins/.codalab/temp/tmp6AtGfG.zip to http://localhost:12800: 889 [done]\n"
     ]
    }
   ],
   "source": [
    "%%bash\n",
    "cl upload test_ql.py\n",
    "cl upload test_ql_budget_init.py\n"
   ]
  },
  {
   "cell_type": "code",
   "execution_count": 18,
   "metadata": {
    "collapsed": false
   },
   "outputs": [
    {
     "name": "stdout",
     "output_type": "stream",
     "text": [
      "Uploading /Users/tianlins/.codalab/temp/tmp7iS3HB.zip to http://localhost:12800: 904 [done]\n",
      "0xcfe26ef9a0f84a4793faabaf2a4f7b8a\n"
     ]
    }
   ],
   "source": [
    "!cl upload test_ql_budget.py"
   ]
  },
  {
   "cell_type": "code",
   "execution_count": 5,
   "metadata": {
    "collapsed": false
   },
   "outputs": [
    {
     "name": "stdout",
     "output_type": "stream",
     "text": [
      "0x147c4d255aab498bb8ee23e7afe3dc3c\r\n"
     ]
    }
   ],
   "source": [
    "!cl run init.py:test_ql_budget_init.py test.py:test_ql_budget.py :pyrl :dill :common_imports.py \"mkdir result; THEANO_FLAGS=blas.ldflags=-lopenblas arch='conv_net' output='test0' python init.py;\""
   ]
  },
  {
   "cell_type": "code",
   "execution_count": 12,
   "metadata": {
    "collapsed": false
   },
   "outputs": [
    {
     "name": "stdout",
     "output_type": "stream",
     "text": [
      "0x7c523e6bc49b42fe94671adb526b434b\n",
      "0xdcdd530d9b8c48318df95a1b09bc42de\n",
      "0x6bad3c75801c4ee8be53837f9c6b1ae7\n",
      "0x822f6361da0841b5ad9b52c3329540e6\n",
      "0x5ab3955728534ee7913daac16ae2f7d8\n",
      "0x604253fc33cf4dcea9fbb20e52880940\n",
      "0xafe9682f8962424b85232a1eb497c675\n",
      "0x15d2aa84a862488083a28d2ebf8b4507\n",
      "0xc9fb2710f019431d92747e21587dcf07\n",
      "0x058aeacd40334a34b47af7501de27a1c\n",
      "0x0a5bd813700f4ca6baf71ec57fd14c9d\n",
      "0xaea8218433894852af6b49984fa28449\n",
      "0x082c95d99f974982bbb99f5c18429ba1\n",
      "0xcb284afdb1094cbd93e1f89d98b1fea3\n",
      "0xb684de5e672c40c589f7b14249fe0312\n",
      "0xe0fffeeb432f44b79712db21581499bc\n"
     ]
    }
   ],
   "source": [
    "%%bash\n",
    "for x in 0 3 6 8\n",
    "do\n",
    "    for y in 0 3 6 8\n",
    "    do\n",
    "        cl run init.py:test_ql_budget_init.py test.py:test_ql_budget.py :pyrl :dill :common_imports.py result:0x147c4d255aab498bb8ee23e7afe3dc3c/result \"THEANO_FLAGS=blas.ldflags=-lopenblas arch='conv_net' output='test0' x=$x y=$y python test.py\"\n",
    "    done\n",
    "done"
   ]
  },
  {
   "cell_type": "code",
   "execution_count": 28,
   "metadata": {
    "collapsed": false
   },
   "outputs": [
    {
     "name": "stdout",
     "output_type": "stream",
     "text": [
      "0x1548b3f8f00c470585063bfd47d444a0\r\n"
     ]
    }
   ],
   "source": [
    "!cl run init.py:test_ql_budget_init.py test.py:test_ql_budget.py :pyrl :dill :common_imports.py result:0x147c4d255aab498bb8ee23e7afe3dc3c/result \"THEANO_FLAGS=blas.ldflags=-lopenblas arch='conv_net' output='test0' x=5 y=5 python test.py\""
   ]
  },
  {
   "cell_type": "code",
   "execution_count": 34,
   "metadata": {
    "collapsed": false
   },
   "outputs": [
    {
     "name": "stdout",
     "output_type": "stream",
     "text": [
      "0x92730c20d9b24923bb00ebb84268477c\r\n"
     ]
    }
   ],
   "source": [
    "!cl run init.py:test_ql_budget_init.py test.py:test_ql_budget.py :pyrl :dill :common_imports.py result:0x147c4d255aab498bb8ee23e7afe3dc3c/result \"THEANO_FLAGS=blas.ldflags=-lopenblas arch='conv_net' output='test0' x=3 y=3 python test.py\""
   ]
  },
  {
   "cell_type": "code",
   "execution_count": 36,
   "metadata": {
    "collapsed": false
   },
   "outputs": [
    {
     "name": "stdout",
     "output_type": "stream",
     "text": [
      "^CTerminated by Ctrl-C\r\n",
      "\r\n"
     ]
    }
   ],
   "source": [
    "!cl run init.py:test_ql_budget_init.py test.py:test_ql_budget.py :pyrl :dill :common_imports.py result:0x147c4d255aab498bb8ee23e7afe3dc3c/result \"THEANO_FLAGS=blas.ldflags=-lopenblas arch='conv_net' output='test0' x=1 y=1 python test.py\""
   ]
  },
  {
   "cell_type": "code",
   "execution_count": 24,
   "metadata": {
    "collapsed": false
   },
   "outputs": [
    {
     "name": "stdout",
     "output_type": "stream",
     "text": [
      "0x833c17c8c6fb402faa48d0559c3d0fd4\r\n"
     ]
    }
   ],
   "source": [
    "!cl run init.py:test_ql_budget_init.py test.py:test_ql_budget.py :pyrl :dill :common_imports.py result:0x147c4d255aab498bb8ee23e7afe3dc3c/result \"THEANO_FLAGS=blas.ldflags=-lopenblas arch='conv_net' output='test0' x=7 y=7 python test.py\""
   ]
  },
  {
   "cell_type": "code",
   "execution_count": 25,
   "metadata": {
    "collapsed": false
   },
   "outputs": [
    {
     "name": "stdout",
     "output_type": "stream",
     "text": [
      "0x208f640bf57b4d22bb2a4ef41d65dbc6\r\n"
     ]
    }
   ],
   "source": [
    "!cl run init.py:test_ql_budget_init.py test.py:test_ql_budget.py :pyrl :dill :common_imports.py result:0x147c4d255aab498bb8ee23e7afe3dc3c/result \"THEANO_FLAGS=blas.ldflags=-lopenblas arch='conv_net' output='test0' x=8 y=8 python test.py\""
   ]
  },
  {
   "cell_type": "code",
   "execution_count": null,
   "metadata": {
    "collapsed": true
   },
   "outputs": [],
   "source": []
  }
 ],
 "metadata": {
  "kernelspec": {
   "display_name": "Python 2",
   "language": "python",
   "name": "python2"
  },
  "language_info": {
   "codemirror_mode": {
    "name": "ipython",
    "version": 2
   },
   "file_extension": ".py",
   "mimetype": "text/x-python",
   "name": "python",
   "nbconvert_exporter": "python",
   "pygments_lexer": "ipython2",
   "version": "2.7.10"
  }
 },
 "nbformat": 4,
 "nbformat_minor": 0
}
