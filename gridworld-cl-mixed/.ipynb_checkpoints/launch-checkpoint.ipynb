{
 "cells": [
  {
   "cell_type": "code",
   "execution_count": 35,
   "metadata": {
    "collapsed": false
   },
   "outputs": [],
   "source": [
    "from common_imports import *"
   ]
  },
  {
   "cell_type": "code",
   "execution_count": 6,
   "metadata": {
    "collapsed": false
   },
   "outputs": [
    {
     "name": "stdout",
     "output_type": "stream",
     "text": [
      "Switched to worksheet http://localhost:12800::gridworld-gp(0x13f9215e1d8a42b7a3a8077c0aa0788a).\r\n"
     ]
    }
   ],
   "source": [
    "!cl work http://localhost:12800::gridworld-gp\n"
   ]
  },
  {
   "cell_type": "code",
   "execution_count": 8,
   "metadata": {
    "collapsed": false
   },
   "outputs": [
    {
     "name": "stdout",
     "output_type": "stream",
     "text": [
      "0xa37d019b475b4ff7a54337e4512cc480\n",
      "0xfe8457c6c11f4cf08dd7d95baf5b3014\n",
      "0x471c39663e964d0584609ca69f99e58b\n"
     ]
    },
    {
     "name": "stderr",
     "output_type": "stream",
     "text": [
      "\r",
      "\u001b[KCopying ../../external/dill to /Users/tianlins/.codalab/temp/tmpPUzV7c/dill \r",
      "\u001b[K \r",
      "\u001b[KZipping to /Users/tianlins/.codalab/temp/tmpPUzV7c.zip \r",
      "Uploading /Users/tianlins/.codalab/temp/tmpPUzV7c.zip to http://localhost:12800: 95.9K \r",
      "Uploading /Users/tianlins/.codalab/temp/tmpPUzV7c.zip to http://localhost:12800: 95.9K [done]\n",
      "\r",
      "\u001b[KCopying ../../pyrl to /Users/tianlins/.codalab/temp/tmp0yYa0x/pyrl \r",
      "\u001b[K \r",
      "\u001b[KZipping to /Users/tianlins/.codalab/temp/tmp0yYa0x.zip \r",
      "Uploading /Users/tianlins/.codalab/temp/tmp0yYa0x.zip to http://localhost:12800: 422K \r",
      "Uploading /Users/tianlins/.codalab/temp/tmp0yYa0x.zip to http://localhost:12800: 422K [done]\n",
      "\r",
      "\u001b[KCopying common_imports.py to /Users/tianlins/.codalab/temp/tmprDXe6A/common_imports.py \r",
      "\u001b[K \r",
      "\u001b[KZipping to /Users/tianlins/.codalab/temp/tmprDXe6A.zip \r",
      "Uploading /Users/tianlins/.codalab/temp/tmprDXe6A.zip to http://localhost:12800: 891 \r",
      "Uploading /Users/tianlins/.codalab/temp/tmprDXe6A.zip to http://localhost:12800: 891 [done]\n"
     ]
    }
   ],
   "source": [
    "%%bash\n",
    "cl upload ../../external/dill\n",
    "cl upload ../../pyrl"
   ]
  },
  {
   "cell_type": "code",
   "execution_count": 27,
   "metadata": {
    "collapsed": false
   },
   "outputs": [
    {
     "name": "stdout",
     "output_type": "stream",
     "text": [
      "0x37220b20eefe4012af4fd1f52cf56942\n",
      "0x6d179f43a4ea4d299a3f955bdf18f3bc\n"
     ]
    },
    {
     "name": "stderr",
     "output_type": "stream",
     "text": [
      "\r",
      "\u001b[KCopying common_imports.py to /Users/tianlins/.codalab/temp/tmpkRM8Hp/common_imports.py \r",
      "\u001b[K \r",
      "\u001b[KZipping to /Users/tianlins/.codalab/temp/tmpkRM8Hp.zip \r",
      "Uploading /Users/tianlins/.codalab/temp/tmpkRM8Hp.zip to http://localhost:12800: 894 \r",
      "Uploading /Users/tianlins/.codalab/temp/tmpkRM8Hp.zip to http://localhost:12800: 894 [done]\n",
      "\r",
      "\u001b[KCopying test_gpv1.py to /Users/tianlins/.codalab/temp/tmpLLROyq/test_gpv1.py \r",
      "\u001b[K \r",
      "\u001b[KZipping to /Users/tianlins/.codalab/temp/tmpLLROyq.zip \r",
      "Uploading /Users/tianlins/.codalab/temp/tmpLLROyq.zip to http://localhost:12800: 1.4K \r",
      "Uploading /Users/tianlins/.codalab/temp/tmpLLROyq.zip to http://localhost:12800: 1.4K [done]\n"
     ]
    }
   ],
   "source": [
    "%%bash\n",
    "cl upload common_imports.py\n",
    "cl upload test_gpv1.py"
   ]
  },
  {
   "cell_type": "markdown",
   "metadata": {},
   "source": [
    "## Budget = 20"
   ]
  },
  {
   "cell_type": "code",
   "execution_count": 28,
   "metadata": {
    "collapsed": false
   },
   "outputs": [
    {
     "name": "stdout",
     "output_type": "stream",
     "text": [
      "http://localhost:18000/bundles/0x10b17f0d52dd41c592cdafd532c3d126\r\n"
     ]
    }
   ],
   "source": [
    "!cl run :test_gpv1.py :pyrl :dill :common_imports.py \"THEANO_FLAGS=blas.ldflags=-lopenblas budget=20 python test_gpv1.py\" | ./makelink"
   ]
  },
  {
   "cell_type": "code",
   "execution_count": 43,
   "metadata": {
    "collapsed": false
   },
   "outputs": [
    {
     "name": "stdout",
     "output_type": "stream",
     "text": [
      "http://localhost:18000/bundles/0xbf16ac7347b040f0a77bf99fa61f4436\r\n"
     ]
    }
   ],
   "source": [
    "!cl run :test_gpv1.py :pyrl :dill :common_imports.py \"THEANO_FLAGS=blas.ldflags=-lopenblas budget=20 python test_gpv1.py\" | ./makelink"
   ]
  },
  {
   "cell_type": "code",
   "execution_count": 42,
   "metadata": {
    "collapsed": false
   },
   "outputs": [
    {
     "name": "stdout",
     "output_type": "stream",
     "text": [
      "http://localhost:18000/bundles/0xbb21ad670fc14994aa78ab9d23165f49\r\n"
     ]
    }
   ],
   "source": [
    "!cl run :test_gpv1.py :pyrl :dill :common_imports.py \"THEANO_FLAGS=blas.ldflags=-lopenblas budget=20 python test_gpv1.py\" | ./makelink"
   ]
  },
  {
   "cell_type": "markdown",
   "metadata": {},
   "source": [
    "## Budget = 10"
   ]
  },
  {
   "cell_type": "code",
   "execution_count": 16,
   "metadata": {
    "collapsed": false
   },
   "outputs": [
    {
     "name": "stdout",
     "output_type": "stream",
     "text": [
      "http://localhost:18000/bundles/0x3a63bafa8b19422e916196ebe62dadec\r\n"
     ]
    }
   ],
   "source": [
    "!cl run :test_gpv1.py :pyrl :dill :common_imports.py \"THEANO_FLAGS=blas.ldflags=-lopenblas budget=10 python test_gpv1.py\" | ./makelink"
   ]
  },
  {
   "cell_type": "code",
   "execution_count": 20,
   "metadata": {
    "collapsed": false
   },
   "outputs": [
    {
     "name": "stdout",
     "output_type": "stream",
     "text": [
      "http://localhost:18000/bundles/0x66b2273e8db94bbfba7f1b1d2c5fee99\r\n"
     ]
    }
   ],
   "source": [
    "!cl run :test_gpv1.py :pyrl :dill :common_imports.py \"THEANO_FLAGS=blas.ldflags=-lopenblas budget=10 python test_gpv1.py\" | ./makelink"
   ]
  },
  {
   "cell_type": "code",
   "execution_count": 21,
   "metadata": {
    "collapsed": false
   },
   "outputs": [
    {
     "name": "stdout",
     "output_type": "stream",
     "text": [
      "http://localhost:18000/bundles/0x95c9e1faef2846efa7e3c02ad5976bba\r\n"
     ]
    }
   ],
   "source": [
    "!cl run :test_gpv1.py :pyrl :dill :common_imports.py \"THEANO_FLAGS=blas.ldflags=-lopenblas budget=10 python test_gpv1.py\" | ./makelink"
   ]
  },
  {
   "cell_type": "markdown",
   "metadata": {},
   "source": [
    "## Budget = 30"
   ]
  },
  {
   "cell_type": "code",
   "execution_count": 17,
   "metadata": {
    "collapsed": false
   },
   "outputs": [
    {
     "name": "stdout",
     "output_type": "stream",
     "text": [
      "http://localhost:18000/bundles/0xbe44f0e06ada48e8a6973f784ae9987e\r\n"
     ]
    }
   ],
   "source": [
    "!cl run :test_gpv1.py :pyrl :dill :common_imports.py \"THEANO_FLAGS=blas.ldflags=-lopenblas budget=30 python test_gpv1.py\" | ./makelink"
   ]
  },
  {
   "cell_type": "code",
   "execution_count": 22,
   "metadata": {
    "collapsed": false
   },
   "outputs": [
    {
     "name": "stdout",
     "output_type": "stream",
     "text": [
      "http://localhost:18000/bundles/0xc16e1aa7fc574173bc20f50268fee618\r\n"
     ]
    }
   ],
   "source": [
    "!cl run :test_gpv1.py :pyrl :dill :common_imports.py \"THEANO_FLAGS=blas.ldflags=-lopenblas budget=30 python test_gpv1.py\" | ./makelink"
   ]
  },
  {
   "cell_type": "code",
   "execution_count": 23,
   "metadata": {
    "collapsed": false,
    "scrolled": false
   },
   "outputs": [
    {
     "name": "stdout",
     "output_type": "stream",
     "text": [
      "http://localhost:18000/bundles/0x7112aea615ae4a5bbc272b7d087d5961\r\n"
     ]
    }
   ],
   "source": [
    "!cl run :test_gpv1.py :pyrl :dill :common_imports.py \"THEANO_FLAGS=blas.ldflags=-lopenblas budget=30 python test_gpv1.py\" | ./makelink"
   ]
  },
  {
   "cell_type": "markdown",
   "metadata": {},
   "source": [
    "## Results"
   ]
  },
  {
   "cell_type": "code",
   "execution_count": 31,
   "metadata": {
    "collapsed": true
   },
   "outputs": [],
   "source": [
    "def plot_mean_scores(uuids, paths):\n",
    "    import urllib2\n",
    "    import json\n",
    "    results = []\n",
    "    tasks = {}\n",
    "    figure(1, figsize=(20, 20))\n",
    "    for (uuid, path) in zip(uuids, paths):\n",
    "        result_json = json.loads(urllib2.urlopen('http://localhost:18000/api/bundles/filecontent/%s/%s' % (uuid, path)).read())\n",
    "        result = {str(key): val for (key, val) in result_json.items()}\n",
    "        results.append(result)\n",
    "        tasks = result['scores'][0].keys()\n",
    "    \n",
    "    num_tasks = len(tasks)\n",
    "    H = np.ceil(np.sqrt(num_tasks))\n",
    "    for (ti, task) in enumerate(tasks):\n",
    "        subplot(H, H, ti + 1)\n",
    "        for result in results:\n",
    "            plot(result['exs'], [t[task] for t in result['scores']])\n",
    "        legend(paths)\n",
    "    \n",
    "        xlabel('number of experiences')\n",
    "        ylabel('score')\n",
    "        title(task)\n",
    "    \n",
    "    show()"
   ]
  },
  {
   "cell_type": "code",
   "execution_count": 37,
   "metadata": {
    "collapsed": false
   },
   "outputs": [],
   "source": [
    "plot_mean_scores(['0x10b17f0d52dd41c592cdafd532c3d126'], ['result-gpv1'])"
   ]
  },
  {
   "cell_type": "code",
   "execution_count": null,
   "metadata": {
    "collapsed": true
   },
   "outputs": [],
   "source": []
  }
 ],
 "metadata": {
  "kernelspec": {
   "display_name": "Python 2",
   "language": "python",
   "name": "python2"
  },
  "language_info": {
   "codemirror_mode": {
    "name": "ipython",
    "version": 2
   },
   "file_extension": ".py",
   "mimetype": "text/x-python",
   "name": "python",
   "nbconvert_exporter": "python",
   "pygments_lexer": "ipython2",
   "version": "2.7.10"
  }
 },
 "nbformat": 4,
 "nbformat_minor": 0
}
