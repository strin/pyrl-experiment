{
 "cells": [
  {
   "cell_type": "code",
   "execution_count": 1,
   "metadata": {
    "collapsed": false
   },
   "outputs": [
    {
     "name": "stdout",
     "output_type": "stream",
     "text": [
      "Switched to worksheet http://localhost:12800::pacman-fixed-mtcl(0x7718b7c3b75a40f59d9516ce54e00f2e).\r\n"
     ]
    }
   ],
   "source": [
    "!cl work http://localhost:12800::pacman-fixed-mtcl"
   ]
  },
  {
   "cell_type": "code",
   "execution_count": 2,
   "metadata": {
    "collapsed": false
   },
   "outputs": [
    {
     "name": "stdout",
     "output_type": "stream",
     "text": [
      "0x5edb3978a5bc47cc8d7e5cb1231aff5c\n"
     ]
    },
    {
     "name": "stderr",
     "output_type": "stream",
     "text": [
      "\r",
      "\u001b[KCopying ../../external/dill to /Users/tianlins/.codalab/temp/tmpxSsPfW/dill \r",
      "\u001b[K \r",
      "\u001b[KZipping to /Users/tianlins/.codalab/temp/tmpxSsPfW.zip \r",
      "Uploading /Users/tianlins/.codalab/temp/tmpxSsPfW.zip to http://localhost:12800: 95.9K \r",
      "Uploading /Users/tianlins/.codalab/temp/tmpxSsPfW.zip to http://localhost:12800: 95.9K [done]\n"
     ]
    }
   ],
   "source": [
    "%%bash\n",
    "cl upload ../../external/dill"
   ]
  },
  {
   "cell_type": "code",
   "execution_count": 3,
   "metadata": {
    "collapsed": false
   },
   "outputs": [
    {
     "name": "stdout",
     "output_type": "stream",
     "text": [
      "0x2e0364fe7fdc40ae8f70b2e6c84cd612\n",
      "0x5c62282404b14fd1914ca69791fa92e4\n"
     ]
    },
    {
     "name": "stderr",
     "output_type": "stream",
     "text": [
      "\r",
      "\u001b[KCopying ../../pyrl to /Users/tianlins/.codalab/temp/tmp_DGkrs/pyrl \r",
      "\u001b[K \r",
      "\u001b[KZipping to /Users/tianlins/.codalab/temp/tmp_DGkrs.zip \r",
      "Uploading /Users/tianlins/.codalab/temp/tmp_DGkrs.zip to http://localhost:12800: 416K \r",
      "Uploading /Users/tianlins/.codalab/temp/tmp_DGkrs.zip to http://localhost:12800: 416K [done]\n",
      "\r",
      "\u001b[KCopying common_imports.py to /Users/tianlins/.codalab/temp/tmpE5maCs/common_imports.py \r",
      "\u001b[K \r",
      "\u001b[KZipping to /Users/tianlins/.codalab/temp/tmpE5maCs.zip \r",
      "Uploading /Users/tianlins/.codalab/temp/tmpE5maCs.zip to http://localhost:12800: 545 \r",
      "Uploading /Users/tianlins/.codalab/temp/tmpE5maCs.zip to http://localhost:12800: 545 [done]\n"
     ]
    }
   ],
   "source": [
    "%%bash\n",
    "cl upload ../../pyrl\n",
    "cl upload common_imports.py"
   ]
  },
  {
   "cell_type": "code",
   "execution_count": 4,
   "metadata": {
    "collapsed": false
   },
   "outputs": [
    {
     "name": "stdout",
     "output_type": "stream",
     "text": [
      "0xaf7de418d27144a4b32f026cf7fdf800\n"
     ]
    },
    {
     "name": "stderr",
     "output_type": "stream",
     "text": [
      "\r",
      "\u001b[KCopying ../../data to /Users/tianlins/.codalab/temp/tmpzlL0yg/data \r",
      "\u001b[K \r",
      "\u001b[KZipping to /Users/tianlins/.codalab/temp/tmpzlL0yg.zip \r",
      "Uploading /Users/tianlins/.codalab/temp/tmpzlL0yg.zip to http://localhost:12800: 5.6K \r",
      "Uploading /Users/tianlins/.codalab/temp/tmpzlL0yg.zip to http://localhost:12800: 5.6K [done]\n"
     ]
    }
   ],
   "source": [
    "%%bash\n",
    "cl upload ../../data"
   ]
  },
  {
   "cell_type": "markdown",
   "metadata": {},
   "source": [
    "## Curriculum Learning"
   ]
  },
  {
   "cell_type": "code",
   "execution_count": 6,
   "metadata": {
    "collapsed": false,
    "scrolled": true
   },
   "outputs": [
    {
     "name": "stdout",
     "output_type": "stream",
     "text": [
      "0x3c3f2c3653e042d2ba81f6be60d5accc\n"
     ]
    },
    {
     "name": "stderr",
     "output_type": "stream",
     "text": [
      "\r",
      "\u001b[KCopying test_qlearn_mtcl.py to /Users/tianlins/.codalab/temp/tmpNC_v6q/test_qlearn_mtcl.py \r",
      "\u001b[K \r",
      "\u001b[KZipping to /Users/tianlins/.codalab/temp/tmpNC_v6q.zip \r",
      "Uploading /Users/tianlins/.codalab/temp/tmpNC_v6q.zip to http://localhost:12800: 1.4K \r",
      "Uploading /Users/tianlins/.codalab/temp/tmpNC_v6q.zip to http://localhost:12800: 1.4K [done]\n"
     ]
    }
   ],
   "source": [
    "%%bash\n",
    "cl upload test_qlearn_mtcl.py"
   ]
  },
  {
   "cell_type": "code",
   "execution_count": 8,
   "metadata": {
    "collapsed": false
   },
   "outputs": [
    {
     "name": "stdout",
     "output_type": "stream",
     "text": [
      "0xc713ea1f30ce4da497f5a64907dab181\n"
     ]
    }
   ],
   "source": [
    "%%bash\n",
    "cl run --name 'cl13' test.py:test_qlearn_mtcl.py :pyrl :dill :common_imports.py :data \"THEANO_FLAGS=blas.ldflags=-lopenblas  arch='conv_net' proc='[[1, 30], [3, 30]]' python test.py;\""
   ]
  },
  {
   "cell_type": "code",
   "execution_count": 15,
   "metadata": {
    "collapsed": false
   },
   "outputs": [
    {
     "name": "stdout",
     "output_type": "stream",
     "text": [
      "0xeea01a042b7f402c84edbaa64c3c2050\n"
     ]
    }
   ],
   "source": [
    "%%bash\n",
    "cl run --name 'cl23' test.py:test_qlearn_mtcl.py :pyrl :dill :common_imports.py :data \"THEANO_FLAGS=blas.ldflags=-lopenblas  arch='conv_net' proc='[[2, 30], [3, 30]]' python test.py;\""
   ]
  },
  {
   "cell_type": "code",
   "execution_count": 8,
   "metadata": {
    "collapsed": false
   },
   "outputs": [
    {
     "name": "stdout",
     "output_type": "stream",
     "text": [
      "0x74f56aac5d0249ab93733efc028d30dd\n"
     ]
    }
   ],
   "source": [
    "%%bash\n",
    "cl run --name 'cl123' test.py:test_qlearn_cl.py :pyrl :dill :common_imports.py :data \"THEANO_FLAGS=blas.ldflags=-lopenblas  arch='conv_net2' proc='[[1,100], [2, 100], [3, 100]]' python test.py;\""
   ]
  },
  {
   "cell_type": "code",
   "execution_count": 21,
   "metadata": {
    "collapsed": false,
    "scrolled": true
   },
   "outputs": [
    {
     "name": "stdout",
     "output_type": "stream",
     "text": [
      "### Worksheet: http://localhost:12800::pacman-fixed-cl(0x00949c7957974a3780d0cbf6b97e59cf)\n",
      "### Title: <none>\n",
      "### Tags: []\n",
      "### Owner: tianlins(32)\n",
      "### Permissions: public(0xcbda9a):read\n",
      "ref  uuid      name                              bundle_type  owner         created              data_size  state  \n",
      "-------------------------------------------------------------------------------------------------------------------\n",
      "^95  0x70564f  dill                              program      tianlins(32)  2015-11-10 12:17:09       276K  ready  \n",
      "^94  0xdf3c7f  pyrl                              program      tianlins(32)  2015-11-10 12:17:16       2.0M  ready  \n",
      "^93  0x2dbd9d  common_imports.py                 program      tianlins(32)  2015-11-10 12:17:17        801  ready  \n",
      "^92  0xd5a433  data                              dataset      tianlins(32)  2015-11-10 12:17:35      10.7K  ready  \n",
      "^91  0xe5c99a  test_qlearn_cl.py                 program      tianlins(32)  2015-11-10 12:21:14       3.5K  ready  \n",
      "^90  0xe3627e  run-THEANO_FLAG..flags-lopenblas  run          tianlins(32)  2015-11-10 12:21:16         4K  failed \n",
      "^89  0xf92fa2  run-echo                          run          tianlins(32)  2015-11-10 12:22:48       4.0K  ready  \n",
      "^88  0x069c54  run-THEANO_FLAG..flags-lopenblas  run          tianlins(32)  2015-11-10 12:23:11       8.0M  ready  \n",
      "^87  0xff4eb1  run-THEANO_FLAG..flags-lopenblas  run          tianlins(32)  2015-11-10 12:26:33       8.0M  ready  \n",
      "^86  0x77ba6f  run-THEANO_FLAG..flags-lopenblas  run          tianlins(32)  2015-11-10 12:26:34       8.0M  ready  \n",
      "^85  0xa2e5b2  run-THEANO_FLAG..flags-lopenblas  run          tianlins(32)  2015-11-10 12:26:35       8.0M  ready  \n",
      "^84  0x955748  run-THEANO_FLAG..flags-lopenblas  run          tianlins(32)  2015-11-10 12:26:36       8.0M  ready  \n",
      "^83  0x4ce083  run-THEANO_FLAG..flags-lopenblas  run          tianlins(32)  2015-11-10 12:26:37       8.0M  ready  \n",
      "^82  0xcede1d  run-THEANO_FLAG..flags-lopenblas  run          tianlins(32)  2015-11-10 12:27:35      33.1M  ready  \n",
      "^81  0x2611ae  run-THEANO_FLAG..flags-lopenblas  run          tianlins(32)  2015-11-10 12:27:36      33.1M  ready  \n",
      "^80  0x454fae  run-THEANO_FLAG..flags-lopenblas  run          tianlins(32)  2015-11-10 12:27:36      33.1M  ready  \n",
      "^79  0x013668  run-THEANO_FLAG..flags-lopenblas  run          tianlins(32)  2015-11-10 12:27:37      33.1M  ready  \n",
      "^78  0xd3d59e  run-THEANO_FLAG..flags-lopenblas  run          tianlins(32)  2015-11-10 12:27:38      33.1M  ready  \n",
      "^77  0xbd6b77  run-THEANO_FLAG..flags-lopenblas  run          tianlins(32)  2015-11-10 12:27:39      33.1M  ready  \n",
      "^76  0x59cde2  run-THEANO_FLAG..flags-lopenblas  run          tianlins(32)  2015-11-10 12:27:42      63.0M  ready  \n",
      "^75  0xdb28c9  run-THEANO_FLAG..flags-lopenblas  run          tianlins(32)  2015-11-10 12:27:43      63.0M  ready  \n",
      "^74  0x3c093e  run-THEANO_FLAG..flags-lopenblas  run          tianlins(32)  2015-11-10 12:27:44      63.0M  ready  \n",
      "^73  0xac60e8  run-THEANO_FLAG..flags-lopenblas  run          tianlins(32)  2015-11-10 12:27:45      63.0M  ready  \n",
      "^72  0xe70a9e  run-THEANO_FLAG..flags-lopenblas  run          tianlins(32)  2015-11-10 12:27:46      63.0M  ready  \n",
      "^71  0xcd6562  run-THEANO_FLAG..flags-lopenblas  run          tianlins(32)  2015-11-10 12:27:47      63.0M  ready  \n",
      "^70  0xbe8591  test_qlearn_cl.py                 program      tianlins(32)  2015-11-10 12:41:25       3.5K  ready  \n",
      "^69  0xaa399e  cl13                              run          tianlins(32)  2015-11-10 12:41:34      16.0M  ready  \n",
      "^68  0x3cd063  cl23                              run          tianlins(32)  2015-11-10 12:42:22      16.0M  ready  \n",
      "^67  0x983795  cl123                             run          tianlins(32)  2015-11-10 12:42:33      23.9M  ready  \n",
      "^66  0xc6c5c5  pyrl                              program      tianlins(32)  2015-11-10 16:39:34       2.1M  ready  \n",
      "^65  0xa23cff  common_imports.py                 program      tianlins(32)  2015-11-10 16:39:35        801  ready  \n",
      "^64  0x543a35  data                              dataset      tianlins(32)  2015-11-10 16:39:42      10.8K  ready  \n",
      "^63  0x3d8ac5  test_qlearn_cl.py                 program      tianlins(32)  2015-11-10 16:39:45       3.5K  ready  \n",
      "^62  0x5c55f6  run-THEANO_FLAG..flags-lopenblas  run          tianlins(32)  2015-11-10 16:39:53       8.0M  ready  \n",
      "^61  0xb135d5  run-THEANO_FLAG..flags-lopenblas  run          tianlins(32)  2015-11-10 16:39:54       8.0M  ready  \n",
      "^60  0xc16b0e  run-THEANO_FLAG..flags-lopenblas  run          tianlins(32)  2015-11-10 16:39:55       8.0M  ready  \n",
      "^59  0x150c4f  run-THEANO_FLAG..flags-lopenblas  run          tianlins(32)  2015-11-10 16:39:57       8.0M  ready  \n",
      "^58  0x8536a2  run-THEANO_FLAG..flags-lopenblas  run          tianlins(32)  2015-11-10 16:39:58       8.0M  ready  \n",
      "^57  0xe876a4  run-THEANO_FLAG..flags-lopenblas  run          tianlins(32)  2015-11-10 16:40:00       8.0M  ready  \n",
      "^56  0x02ff13  cl13                              run          tianlins(32)  2015-11-10 16:40:02      16.0M  ready  \n",
      "^55  0x0b057c  cl23                              run          tianlins(32)  2015-11-10 16:40:04      16.0M  ready  \n",
      "^54  0xe091e5  cl123                             run          tianlins(32)  2015-11-10 16:40:05      23.9M  ready  \n",
      "^53  0x53000c  test_qlearn_cl.py                 program      tianlins(32)  2015-11-10 17:07:07       3.5K  ready  \n",
      "^52  0xb92bff  run-THEANO_FLAG..flags-lopenblas  run          tianlins(32)  2015-11-10 17:07:11         4K  failed \n",
      "^51  0xd52836  run-THEANO_FLAG..flags-lopenblas  run          tianlins(32)  2015-11-10 17:07:14         4K  failed \n",
      "^50  0x22454b  run-THEANO_FLAG..flags-lopenblas  run          tianlins(32)  2015-11-10 17:07:15         4K  failed \n",
      "^49  0x49cea5  run-THEANO_FLAG..flags-lopenblas  run          tianlins(32)  2015-11-10 17:07:16         4K  failed \n",
      "^48  0xe9fc97  run-THEANO_FLAG..flags-lopenblas  run          tianlins(32)  2015-11-10 17:07:18         4K  failed \n",
      "^47  0x684d12  run-THEANO_FLAG..flags-lopenblas  run          tianlins(32)  2015-11-10 17:07:19       8.0M  ready  \n",
      "^46  0x671086  run-THEANO_FLAG..flags-lopenblas  run          tianlins(32)  2015-11-10 17:10:43       8.0M  ready  \n",
      "^45  0x132b42  run-THEANO_FLAG..flags-lopenblas  run          tianlins(32)  2015-11-10 17:10:44       8.0M  ready  \n",
      "^44  0x4a7c64  run-THEANO_FLAG..flags-lopenblas  run          tianlins(32)  2015-11-10 17:10:44       8.0M  ready  \n",
      "^43  0x0d6df5  run-THEANO_FLAG..flags-lopenblas  run          tianlins(32)  2015-11-10 17:10:46       8.0M  ready  \n",
      "^42  0x6ff301  run-THEANO_FLAG..flags-lopenblas  run          tianlins(32)  2015-11-10 17:10:47       8.0M  ready  \n",
      "^41  0xf3590f  run-THEANO_FLAG..flags-lopenblas  run          tianlins(32)  2015-11-10 17:10:47       8.0M  ready  \n",
      "^40  0x39ebe4  test_qlearn_cl.py                 program      tianlins(32)  2015-11-10 18:23:02       3.5K  ready  \n",
      "^39  0x3a0225  run-THEANO_FLAG..flags-lopenblas  run          tianlins(32)  2015-11-10 18:23:08         4K  failed \n",
      "^38  0xa34e9b  run-THEANO_FLAG..flags-lopenblas  run          tianlins(32)  2015-11-10 18:23:09         4K  failed \n",
      "^37  0x8a90dc  run-THEANO_FLAG..flags-lopenblas  run          tianlins(32)  2015-11-10 18:23:09         4K  failed \n",
      "^36  0x5cb87e  run-THEANO_FLAG..flags-lopenblas  run          tianlins(32)  2015-11-10 18:23:10      33.1M  ready  \n",
      "^35  0xd9e9c1  run-THEANO_FLAG..flags-lopenblas  run          tianlins(32)  2015-11-10 18:23:10      33.1M  ready  \n",
      "^34  0xd352ad  run-THEANO_FLAG..flags-lopenblas  run          tianlins(32)  2015-11-10 18:23:11      33.1M  ready  \n",
      "^33  0xd0f1b3  run-THEANO_FLAG..flags-lopenblas  run          tianlins(32)  2015-11-10 18:23:17      63.0M  ready  \n",
      "^32  0xe85276  run-THEANO_FLAG..flags-lopenblas  run          tianlins(32)  2015-11-10 18:23:18      63.0M  ready  \n",
      "^31  0x2d2d20  run-THEANO_FLAG..flags-lopenblas  run          tianlins(32)  2015-11-10 18:23:19      63.0M  ready  \n",
      "^30  0xe6911e  run-THEANO_FLAG..flags-lopenblas  run          tianlins(32)  2015-11-10 18:23:20      63.0M  ready  \n",
      "^29  0xafb39f  run-THEANO_FLAG..flags-lopenblas  run          tianlins(32)  2015-11-10 18:23:21      63.0M  ready  \n",
      "^28  0xaa6f9b  run-THEANO_FLAG..flags-lopenblas  run          tianlins(32)  2015-11-10 18:23:22      63.0M  ready  \n",
      "^27  0xb8ce89  cl13                              run          tianlins(32)  2015-11-10 18:26:51      16.0M  ready  \n",
      "^26  0xe28975  cl23                              run          tianlins(32)  2015-11-10 18:26:52      16.0M  ready  \n",
      "^25  0x7c8c65  cl123                             run          tianlins(32)  2015-11-10 18:26:53      23.9M  ready  \n",
      "^24  0x204a0e  pyrl.zip                          dataset      tianlins(32)  2015-11-11 00:59:46       2.0M  ready  \n",
      "^23  0x0811cc  run-echo                          run          tianlins(32)  2015-11-11 01:01:21       4.0K  ready  \n",
      "^22  0xe2da42  dill                              dataset      tianlins(32)  2015-11-11 10:00:41       276K  ready  \n",
      "^21  0xc832e9  pyrl                              dataset      tianlins(32)  2015-11-11 10:00:46       2.0M  ready  \n",
      "^20  0x689464  common_imports.py                 dataset      tianlins(32)  2015-11-11 10:00:47        801  ready  \n",
      "^19  0xfd5b00  data                              dataset      tianlins(32)  2015-11-11 10:00:57      10.8K  ready  \n",
      "^18  0xf3b1a0  run-THEANO_FLAG..flags-lopenblas  run          tianlins(32)  2015-11-11 10:00:59         4K  failed \n",
      "^17  0xedf0a7  run-THEANO_FLAG..flags-lopenblas  run          tianlins(32)  2015-11-11 10:01:00         4K  failed \n",
      "^16  0xb165e8  run-THEANO_FLAG..flags-lopenblas  run          tianlins(32)  2015-11-11 10:01:01         4K  failed \n",
      "^15  0xea97ac  run-THEANO_FLAG..flags-lopenblas  run          tianlins(32)  2015-11-11 10:01:02         4K  failed \n",
      "^14  0xb7aac2  run-THEANO_FLAG..flags-lopenblas  run          tianlins(32)  2015-11-11 10:01:03         4K  failed \n",
      "^13  0x983ddf  run-THEANO_FLAG..flags-lopenblas  run          tianlins(32)  2015-11-11 10:01:04             running\n",
      "^12  0xe03678  cl13                              run          tianlins(32)  2015-11-11 10:01:10             running\n",
      "^11  0x6f0bce  cl23                              run          tianlins(32)  2015-11-11 10:01:11             running\n",
      "^10  0x74f56a  cl123                             run          tianlins(32)  2015-11-11 10:01:12             running\n",
      " ^9  0xfced3c  run-THEANO_FLAG..flags-lopenblas  run          tianlins(32)  2015-11-11 10:02:55             running\n",
      " ^8  0xe33a31  run-THEANO_FLAG..flags-lopenblas  run          tianlins(32)  2015-11-11 10:03:00             running\n",
      " ^7  0x380bba  run-THEANO_FLAG..flags-lopenblas  run          tianlins(32)  2015-11-11 10:03:07             running\n",
      " ^6  0x3f0ee7  run-THEANO_FLAG..flags-lopenblas  run          tianlins(32)  2015-11-11 10:03:19             running\n",
      " ^5  0x58a526  run-THEANO_FLAG..flags-lopenblas  run          tianlins(32)  2015-11-11 10:03:24             running\n",
      " ^4  0x4d9b04  run-THEANO_FLAG..flags-lopenblas  run          tianlins(32)  2015-11-11 10:03:28             running\n",
      " ^3  0x9c08b2  run-THEANO_FLAG..flags-lopenblas  run          tianlins(32)  2015-11-11 10:03:37             running\n",
      " ^2  0x42928c  run-THEANO_FLAG..flags-lopenblas  run          tianlins(32)  2015-11-11 10:03:43             running\n",
      " ^1  0x415c06  run-THEANO_FLAG..flags-lopenblas  run          tianlins(32)  2015-11-11 10:03:47             running\n"
     ]
    }
   ],
   "source": [
    "!cl ls"
   ]
  },
  {
   "cell_type": "code",
   "execution_count": null,
   "metadata": {
    "collapsed": true
   },
   "outputs": [],
   "source": []
  }
 ],
 "metadata": {
  "kernelspec": {
   "display_name": "Python 2",
   "language": "python",
   "name": "python2"
  },
  "language_info": {
   "codemirror_mode": {
    "name": "ipython",
    "version": 2
   },
   "file_extension": ".py",
   "mimetype": "text/x-python",
   "name": "python",
   "nbconvert_exporter": "python",
   "pygments_lexer": "ipython2",
   "version": "2.7.10"
  }
 },
 "nbformat": 4,
 "nbformat_minor": 0
}
