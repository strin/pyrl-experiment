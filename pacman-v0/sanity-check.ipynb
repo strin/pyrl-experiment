{
 "cells": [
  {
   "cell_type": "markdown",
   "metadata": {
    "collapsed": true
   },
   "source": [
    "# Sanity Checks Before Launching"
   ]
  },
  {
   "cell_type": "code",
   "execution_count": 71,
   "metadata": {
    "collapsed": false
   },
   "outputs": [],
   "source": [
    "%matplotlib inline\n",
    "import matplotlib.pyplot as plt\n",
    "import sys\n",
    "sys.path.append('../../')\n",
    "import numpy as np\n",
    "from pyrl.tasks.pacman.game_mdp import *\n",
    "from pyrl.tasks.pacman.ghostAgents import *\n",
    "import pyrl.tasks.pacman.graphicsDisplay as graphicsDisplay\n",
    "import pyrl.tasks.pacman.textDisplay as textDisplay\n",
    "from pyrl.utils import Timer\n",
    "from pyrl.prob import choice\n",
    "import pyrl.agents.arch as arch\n",
    "from pyrl.algorithms.valueiter import DeepQlearn\n",
    "from pyrl.agents.agent import DQN\n",
    "from pyrl.evaluate import reward_stochastic\n",
    "import theano\n",
    "import theano.tensor as T"
   ]
  },
  {
   "cell_type": "code",
   "execution_count": 2,
   "metadata": {
    "collapsed": false
   },
   "outputs": [],
   "source": [
    "_layout = layout.getLayout('pyrl/tasks/pacman/layouts/smallGrid.lay')\n",
    "ghostType = DirectionalGhost\n",
    "agents = [ghostType( i+1 ) for i in range(2)]\n",
    "#display = graphicsDisplay.PacmanGraphics(zoom=1.0, frameTime = 0.1)\n",
    "# display = textDisplay.PacmanGraphics()\n",
    "display = textDisplay.NullGraphics()\n",
    "task = PacmanTask(_layout, agents, display)\n"
   ]
  },
  {
   "cell_type": "markdown",
   "metadata": {},
   "source": [
    "Randomly play the game and test the throughput of the MDP."
   ]
  },
  {
   "cell_type": "code",
   "execution_count": 42,
   "metadata": {
    "collapsed": false,
    "scrolled": true
   },
   "outputs": [
    {
     "name": "stdout",
     "output_type": "stream",
     "text": [
      "[random-play] Start\n",
      "[random-play] Elapsed: 0.530585050583\n"
     ]
    }
   ],
   "source": [
    "with Timer(\"random-play\"):\n",
    "    scores = []\n",
    "    for it in range(1000):\n",
    "        overall_reward = 0.\n",
    "        if not task.is_end():\n",
    "            actions = task.valid_actions\n",
    "            action = choice(actions, 1)[0]\n",
    "            reward = task.step(action)\n",
    "            overall_reward += reward\n",
    "        else:\n",
    "            sys.stdout.flush()\n",
    "            _layout = layout.getLayout('pyrl/tasks/pacman/layouts/smallGrid.lay')\n",
    "            ghostType = DirectionalGhost\n",
    "            agents = [ghostType( i+1 ) for i in range(2)]\n",
    "            #display = graphicsDisplay.PacmanGraphics(zoom=1.0, frameTime = 0.1)\n",
    "            # display = textDisplay.PacmanGraphics()\n",
    "            display = textDisplay.NullGraphics()\n",
    "            task = PacmanTask(_layout, agents, display)\n",
    "            \n",
    "        \n",
    "            "
   ]
  },
  {
   "cell_type": "code",
   "execution_count": 56,
   "metadata": {
    "collapsed": false
   },
   "outputs": [],
   "source": [
    "input_dim = task.state_shape\n",
    "\n",
    "def two_layer(states):\n",
    "    state_vecs = states.flatten(2)\n",
    "    return arch.two_layer(state_vecs, np.prod(task.state_shape), 128, task.num_actions)\n",
    "    \n",
    "    "
   ]
  },
  {
   "cell_type": "code",
   "execution_count": 65,
   "metadata": {
    "collapsed": false
   },
   "outputs": [],
   "source": [
    "dqn = DQN(task, arch_func=two_layer, state_type=T.tensor4)"
   ]
  },
  {
   "cell_type": "code",
   "execution_count": 66,
   "metadata": {
    "collapsed": false
   },
   "outputs": [],
   "source": [
    "learner = DeepQlearn(dqn, gamma=0.95, lr=1e-3, memory_size = 100, epsilon=0.5)"
   ]
  },
  {
   "cell_type": "code",
   "execution_count": 67,
   "metadata": {
    "collapsed": false
   },
   "outputs": [
    {
     "name": "stdout",
     "output_type": "stream",
     "text": [
      "it 0 score -507.6\n",
      "it 1 score -507.2\n",
      "it 2 score -508.8\n",
      "it 3 score -507.6\n",
      "it 4 score -508.4\n",
      "it 5 score -507.6\n",
      "it 6 score -507.8\n",
      "it 7 score -506.8\n",
      "it 8 score -507.2\n",
      "it 9 score -508.2\n",
      "it 10 score -508.0\n",
      "it 11 score -508.0\n",
      "it 12 score -507.8\n",
      "it 13 score -507.0\n",
      "it 14 score -510.8\n",
      "it 15 score -507.0\n",
      "it 16 score -508.0\n",
      "it 17 score -507.2\n",
      "it 18 score -509.5\n",
      "it 19 score -507.0\n",
      "it 20 score -508.8\n",
      "it 21 score -512.0\n",
      "it 22 score -507.2\n",
      "it 23 score -508.6\n",
      "it 24 score -511.6\n",
      "it 25 score -508.6\n",
      "it 26 score -513.4\n",
      "it 27 score -513.4\n",
      "it 28 score -514.4\n",
      "it 29 score -512.0\n",
      "it 30 score -509.0\n",
      "it 31 score -513.2\n",
      "it 32 score -512.3\n",
      "it 33 score -513.1\n",
      "it 34 score -515.9\n",
      "it 35 score -513.4\n",
      "it 36 score -515.8\n",
      "it 37 score -513.2\n",
      "it 38 score -516.4\n",
      "it 39 score -518.7\n",
      "it 40 score -514.8\n",
      "it 41 score -516.6\n",
      "it 42 score -508.4\n",
      "it 43 score -508.0\n",
      "it 44 score -515.3\n",
      "it 45 score -516.5\n",
      "it 46 score -508.3\n",
      "it 47 score -508.5\n",
      "it 48 score -508.2\n",
      "it 49 score -508.1\n",
      "it 50 score -509.3\n",
      "it 51 score -509.4\n",
      "it 52 score -508.0\n",
      "it 53 score -508.5\n",
      "it 54 score -509.2\n",
      "it 55 score -508.0\n",
      "it 56 score -505.6\n",
      "it 57 score -508.3\n",
      "it 58 score -504.0\n",
      "it 59 score -509.6\n",
      "it 60 score -170.0\n",
      "it 61 score -515.1\n",
      "it 62 score -510.1\n",
      "it 63 score -522.8\n",
      "it 64 score -509.0\n",
      "it 65 score -511.0\n",
      "it 66 score -508.9\n",
      "it 67 score -508.4\n",
      "it 68 score -509.5\n",
      "it 69 score -518.0\n",
      "it 70 score -506.0\n",
      "it 71 score -505.8\n",
      "it 72 score -204.3\n",
      "it 73 score -320.6\n",
      "it 74 score -512.2\n",
      "it 75 score -209.9\n",
      "it 76 score -283.5\n",
      "it 77 score -320.0\n",
      "it 78 score -522.1\n",
      "it 79 score -339.2\n",
      "it 80 score -276.5\n",
      "it 81 score -238.9\n",
      "it 82 score -204.4\n",
      "it 83 score -272.1\n",
      "it 84 score -170.0\n",
      "it 85 score -353.9\n",
      "it 86 score -249.4\n",
      "it 87 score -351.0\n",
      "it 88 score -260.4\n",
      "it 89 score -240.6\n",
      "it 90 score -253.3\n",
      "it 91 score -215.9\n",
      "it 92 score -284.1\n",
      "it 93 score -170.0\n",
      "it 94 score -237.4\n",
      "it 95 score -242.7\n",
      "it 96 score -203.4\n",
      "it 97 score -237.6\n",
      "it 98 score -238.0\n",
      "it 99 score -239.4\n"
     ]
    },
    {
     "data": {
      "text/plain": [
       "[<matplotlib.lines.Line2D at 0x10bb5e450>]"
      ]
     },
     "execution_count": 67,
     "metadata": {},
     "output_type": "execute_result"
    }
   ],
   "source": [
    "scores = []\n",
    "for it in range(100):\n",
    "    learner.run(task, num_episodes = 100)\n",
    "    score = reward_stochastic(dqn, task, gamma=0.95, num_trials=10, tol=1e-4)\n",
    "    scores.append(score)\n",
    "    print 'it', it, 'score', scores[-1]\n",
    "plt.plot(scores)"
   ]
  },
  {
   "cell_type": "code",
   "execution_count": 72,
   "metadata": {
    "collapsed": false
   },
   "outputs": [
    {
     "data": {
      "text/plain": [
       "[<matplotlib.lines.Line2D at 0x10b986550>]"
      ]
     },
     "execution_count": 72,
     "metadata": {},
     "output_type": "execute_result"
    },
    {
     "data": {
      "image/png": "[encoded data removed]",
      "text/plain": [
       "<matplotlib.figure.Figure at 0x10b79ab50>"
      ]
     },
     "metadata": {},
     "output_type": "display_data"
    }
   ],
   "source": [
    "plt.plot(scores)"
   ]
  },
  {
   "cell_type": "code",
   "execution_count": null,
   "metadata": {
    "collapsed": true
   },
   "outputs": [],
   "source": []
  }
 ],
 "metadata": {
  "kernelspec": {
   "display_name": "Python 2",
   "language": "python",
   "name": "python2"
  },
  "language_info": {
   "codemirror_mode": {
    "name": "ipython",
    "version": 2
   },
   "file_extension": ".py",
   "mimetype": "text/x-python",
   "name": "python",
   "nbconvert_exporter": "python",
   "pygments_lexer": "ipython2",
   "version": "2.7.10"
  }
 },
 "nbformat": 4,
 "nbformat_minor": 0
}
