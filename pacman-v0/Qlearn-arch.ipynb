{
 "cells": [
  {
   "cell_type": "markdown",
   "metadata": {},
   "source": [
    "# Deep Qs-learning with different arch"
   ]
  },
  {
   "cell_type": "code",
   "execution_count": 16,
   "metadata": {
    "collapsed": false
   },
   "outputs": [],
   "source": [
    "from os import system, environ\n"
   ]
  },
  {
   "cell_type": "code",
   "execution_count": 22,
   "metadata": {
    "collapsed": false
   },
   "outputs": [
    {
     "name": "stdout",
     "output_type": "stream",
     "text": [
      "Switched to worksheet http://localhost:12800::pacman-v0(0x9e7df59603aa4b6b876efd0e14e967f1).\r\n"
     ]
    }
   ],
   "source": [
    "!cl work http://localhost:12800::pacman-v0"
   ]
  },
  {
   "cell_type": "code",
   "execution_count": 23,
   "metadata": {
    "collapsed": false
   },
   "outputs": [
    {
     "name": "stdout",
     "output_type": "stream",
     "text": [
      "Uploading /Users/tianlins/.codalab/temp/tmpR7sKWK.zip to http://localhost:12800: 747 [done]\n",
      "0xb41e88b7c26f49ac90b008e982b47a6c\n"
     ]
    }
   ],
   "source": [
    "!cl upload program test_Qlearn.py"
   ]
  },
  {
   "cell_type": "markdown",
   "metadata": {},
   "source": [
    "## Small Layout "
   ]
  },
  {
   "cell_type": "code",
   "execution_count": 33,
   "metadata": {
    "collapsed": true
   },
   "outputs": [],
   "source": [
    "environ.update({\n",
    "    'layout': '\\\"pyrl/tasks/pacman/layouts/smallGrid.lay\\\"'\n",
    "})"
   ]
  },
  {
   "cell_type": "markdown",
   "metadata": {},
   "source": [
    "### two-layer architecture"
   ]
  },
  {
   "cell_type": "code",
   "execution_count": 27,
   "metadata": {
    "collapsed": false
   },
   "outputs": [
    {
     "name": "stdout",
     "output_type": "stream",
     "text": [
      "0xb79064e6fa134bc8927cd469c7153976\r\n"
     ]
    }
   ],
   "source": [
    "!cl run test_Qlearn.py:test_Qlearn.py pyrl:pyrl \"THEANO_FLAGS=blas.ldflags=-lopenblas layout=$layout python test_Qlearn.py\""
   ]
  },
  {
   "cell_type": "markdown",
   "metadata": {},
   "source": [
    "### conv-net architecture"
   ]
  },
  {
   "cell_type": "code",
   "execution_count": 32,
   "metadata": {
    "collapsed": false
   },
   "outputs": [
    {
     "name": "stdout",
     "output_type": "stream",
     "text": [
      "0xa047b19cf6b74ba891d4027a866d999d\n"
     ]
    }
   ],
   "source": [
    "%%bash\n",
    "cl run test_Qlearn.py:test_Qlearn.py pyrl:pyrl \"THEANO_FLAGS=blas.ldflags=-lopenblas layout=$layout arch='conv_net' \\\n",
    "output='conv-net-test.result' python test_Qlearn.py\""
   ]
  },
  {
   "cell_type": "markdown",
   "metadata": {},
   "source": [
    "## Small Classic Layout"
   ]
  },
  {
   "cell_type": "code",
   "execution_count": 41,
   "metadata": {
    "collapsed": true
   },
   "outputs": [],
   "source": [
    "environ.update({\n",
    "    'layout': '\\\"pyrl/tasks/pacman/layouts/smallClassic.lay\\\"'\n",
    "})"
   ]
  },
  {
   "cell_type": "markdown",
   "metadata": {},
   "source": [
    "### two-layer architecture with directional features"
   ]
  },
  {
   "cell_type": "code",
   "execution_count": 39,
   "metadata": {
    "collapsed": false,
    "scrolled": true
   },
   "outputs": [
    {
     "name": "stdout",
     "output_type": "stream",
     "text": [
      "0x5e1e71d3364747e49409048da73397fa\r\n"
     ]
    }
   ],
   "source": [
    "!cl run test_Qlearn.py:test_Qlearn.py pyrl:pyrl \"THEANO_FLAGS=blas.ldflags=-lopenblas layout=$layout arch='two_layer'\\\n",
    "state_repr='stack' python test_Qlearn.py\""
   ]
  },
  {
   "cell_type": "markdown",
   "metadata": {},
   "source": [
    "### conv-net architecture with directional features"
   ]
  },
  {
   "cell_type": "code",
   "execution_count": 40,
   "metadata": {
    "collapsed": false
   },
   "outputs": [
    {
     "name": "stdout",
     "output_type": "stream",
     "text": [
      "0x6da6f4b96e4f4247a74093af3cef7884\n"
     ]
    }
   ],
   "source": [
    "%%bash\n",
    "cl run test_Qlearn.py:test_Qlearn.py pyrl:pyrl \"THEANO_FLAGS=blas.ldflags=-lopenblas layout=$layout arch='conv_net' \\\n",
    "output='conv-net-test.result' state_repr='stack' python test_Qlearn.py\""
   ]
  },
  {
   "cell_type": "markdown",
   "metadata": {},
   "source": [
    "### two-layer with past 4 frames"
   ]
  },
  {
   "cell_type": "code",
   "execution_count": 44,
   "metadata": {
    "collapsed": false
   },
   "outputs": [
    {
     "name": "stdout",
     "output_type": "stream",
     "text": [
      "0x12627992028f458a8c28cdcd6a4ba08a\n"
     ]
    }
   ],
   "source": [
    "%%bash\n",
    "cl run test_Qlearn.py:test_Qlearn.py pyrl:pyrl \"THEANO_FLAGS=blas.ldflags=-lopenblas layout=$layout arch='two_layer' \\\n",
    "output='two-layer-4-frames.result' state_repr='4-frames' python test_Qlearn.py\""
   ]
  },
  {
   "cell_type": "markdown",
   "metadata": {},
   "source": [
    "### conv-net with past 4 frames"
   ]
  },
  {
   "cell_type": "code",
   "execution_count": 45,
   "metadata": {
    "collapsed": false
   },
   "outputs": [
    {
     "name": "stdout",
     "output_type": "stream",
     "text": [
      "0xd713769397e74293b64ebb5cc1ee60fb\n"
     ]
    }
   ],
   "source": [
    "%%bash\n",
    "cl run test_Qlearn.py:test_Qlearn.py pyrl:pyrl \"THEANO_FLAGS=blas.ldflags=-lopenblas layout=$layout arch='conv_net' \\\n",
    "output='conv-net-4-frames.result' state_repr='4-frames' python test_Qlearn.py\""
   ]
  },
  {
   "cell_type": "code",
   "execution_count": null,
   "metadata": {
    "collapsed": true
   },
   "outputs": [],
   "source": []
  }
 ],
 "metadata": {
  "kernelspec": {
   "display_name": "Python 2",
   "language": "python",
   "name": "python2"
  },
  "language_info": {
   "codemirror_mode": {
    "name": "ipython",
    "version": 2
   },
   "file_extension": ".py",
   "mimetype": "text/x-python",
   "name": "python",
   "nbconvert_exporter": "python",
   "pygments_lexer": "ipython2",
   "version": "2.7.10"
  }
 },
 "nbformat": 4,
 "nbformat_minor": 0
}
