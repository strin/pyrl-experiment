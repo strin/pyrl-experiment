{
 "cells": [
  {
   "cell_type": "markdown",
   "metadata": {},
   "source": [
    "# Deep Qs-learning with different arch"
   ]
  },
  {
   "cell_type": "code",
   "execution_count": 25,
   "metadata": {
    "collapsed": true
   },
   "outputs": [],
   "source": [
    "from os import system"
   ]
  },
  {
   "cell_type": "code",
   "execution_count": 1,
   "metadata": {
    "collapsed": false
   },
   "outputs": [
    {
     "name": "stdout",
     "output_type": "stream",
     "text": [
      "Switched to worksheet http://localhost:12800::pacman-v0(0x9e7df59603aa4b6b876efd0e14e967f1).\r\n"
     ]
    }
   ],
   "source": [
    "!cl work http://localhost:12800::pacman-v0"
   ]
  },
  {
   "cell_type": "code",
   "execution_count": 2,
   "metadata": {
    "collapsed": false
   },
   "outputs": [
    {
     "name": "stdout",
     "output_type": "stream",
     "text": [
      "Uploading /Users/tianlins/.codalab/temp/tmpNOevZo.zip to http://localhost:12800: 371K [done]\n",
      "0x57f834c30df446959ad0e6ccf2213cda\n"
     ]
    }
   ],
   "source": [
    "!cl upload program ../../pyrl"
   ]
  },
  {
   "cell_type": "code",
   "execution_count": 38,
   "metadata": {
    "collapsed": false
   },
   "outputs": [
    {
     "name": "stdout",
     "output_type": "stream",
     "text": [
      "Uploading /Users/tianlins/.codalab/temp/tmpaVjIdy.zip to http://localhost:12800: 448 [done]\n",
      "0x3b51c764a8a741e492d856c18f404ab1\n"
     ]
    }
   ],
   "source": [
    "!cl upload program common_imports.py"
   ]
  },
  {
   "cell_type": "code",
   "execution_count": 43,
   "metadata": {
    "collapsed": false
   },
   "outputs": [
    {
     "name": "stdout",
     "output_type": "stream",
     "text": [
      "Uploading /Users/tianlins/.codalab/temp/tmpslKktr.zip to http://localhost:12800: 1.1K [done]\n",
      "0xbaed9754d80e41cc9518e463305f43ba\n"
     ]
    }
   ],
   "source": [
    "!cl upload program test_Qlearn.py"
   ]
  },
  {
   "cell_type": "markdown",
   "metadata": {},
   "source": [
    "## test_Qlearn.py locally"
   ]
  },
  {
   "cell_type": "code",
   "execution_count": 22,
   "metadata": {
    "collapsed": false
   },
   "outputs": [
    {
     "name": "stdout",
     "output_type": "stream",
     "text": [
      "Couldn't import dot_parser, loading of dot files will not be possible.\n",
      "[iteration 0 train] Start\n",
      "[iteration 0 train] Elapsed: 20.4527258873\n",
      "[iteration 0 test] Start\n",
      "score -180.0\n",
      "[iteration 0 test] Elapsed: 0.850787878036\n",
      "[iteration 1 train] Start\n",
      "[iteration 1 train] Elapsed: 31.980602026\n",
      "[iteration 1 test] Start\n",
      "score -180.0\n",
      "[iteration 1 test] Elapsed: 0.834753990173\n",
      "[iteration 2 train] Start\n",
      "[iteration 2 train] Elapsed: 33.7328028679\n",
      "[iteration 2 test] Start\n",
      "score -180.0\n",
      "[iteration 2 test] Elapsed: 0.835453987122\n",
      "[iteration 3 train] Start\n",
      "[iteration 3 train] Elapsed: 35.2004139423\n",
      "[iteration 3 test] Start\n",
      "score -180.0\n",
      "[iteration 3 test] Elapsed: 0.876590013504\n"
     ]
    }
   ],
   "source": [
    "%%bash\n",
    "export PYTHONPATH=$PATHONPATH:./\n",
    "cd ../..\n",
    "export PYTHONPATH=$PATHONPATH:./\n",
    "layout='data/layouts/smallSanity.lay' arch='two_layer' state_repr='stack' output='small-sanity-two-layer-eps005.result' python experiments/pacman-v0/test_Qlearn.py"
   ]
  },
  {
   "cell_type": "code",
   "execution_count": 40,
   "metadata": {
    "collapsed": true
   },
   "outputs": [],
   "source": [
    "import subprocess\n",
    "import sys\n",
    "\n",
    "def run(cmd):\n",
    "    process = subprocess.Popen(\n",
    "        '''cl run test_Qlearn.py:test_Qlearn.py :pyrl :data :dill :common_imports.py \"THEANO_FLAGS=blas.ldflags=-lopenblas %(cmd)s\" ''' % \n",
    "        dict(cmd=cmd), shell=True, stdout=subprocess.PIPE, stderr=subprocess.PIPE\n",
    "    )\n",
    "    \n",
    "    print '[stdout]'\n",
    "    while True:\n",
    "        out = process.stdout.read(1)\n",
    "        if out == '' and process.poll() != None:\n",
    "            break\n",
    "        if out != '':\n",
    "            sys.stdout.write(out)\n",
    "            sys.stdout.flush()\n",
    "    \n",
    "    print '[stderr]'\n",
    "    while True:\n",
    "        out = process.stderr.read(1)\n",
    "        if out == '' and process.poll() != None:\n",
    "            break\n",
    "        if out != '':\n",
    "            sys.stdout.write(out)\n",
    "            sys.stdout.flush()"
   ]
  },
  {
   "cell_type": "markdown",
   "metadata": {},
   "source": [
    "## No Ghost Layout"
   ]
  },
  {
   "cell_type": "code",
   "execution_count": 44,
   "metadata": {
    "collapsed": false
   },
   "outputs": [
    {
     "name": "stdout",
     "output_type": "stream",
     "text": [
      "[stdout]\n",
      "0xdf99f7165e124d90860e0166b0751864\n",
      "[stderr]\n"
     ]
    }
   ],
   "source": [
    "run(\"layout='data/layouts/smallSanity.lay' arch='two_layer' state_repr='stack' output='result' python test_Qlearn.py\")"
   ]
  },
  {
   "cell_type": "code",
   "execution_count": 45,
   "metadata": {
    "collapsed": false
   },
   "outputs": [
    {
     "name": "stdout",
     "output_type": "stream",
     "text": [
      "[stdout]\n",
      "0xf1aa52ecf3314804b097277ff687e063\n",
      "[stderr]\n"
     ]
    }
   ],
   "source": [
    "run(\"layout='data/layouts/smallSanity.lay' arch='conv_net' state_repr='stack' output='result' python test_Qlearn.py\")"
   ]
  },
  {
   "cell_type": "markdown",
   "metadata": {},
   "source": [
    "## Small Layout "
   ]
  },
  {
   "cell_type": "markdown",
   "metadata": {},
   "source": [
    "### two-layer architecture"
   ]
  },
  {
   "cell_type": "code",
   "execution_count": 47,
   "metadata": {
    "collapsed": false
   },
   "outputs": [
    {
     "name": "stdout",
     "output_type": "stream",
     "text": [
      "[stdout]\n",
      "0x84eefabecb834dc48841f8e7a49d5beb\n",
      "[stderr]\n"
     ]
    }
   ],
   "source": [
    "run(\"layout='data/layouts/smallGrid.lay' arch='two_layer' state_repr='stack' output='result' python test_Qlearn.py\")"
   ]
  },
  {
   "cell_type": "markdown",
   "metadata": {},
   "source": [
    "### conv-net architecture"
   ]
  },
  {
   "cell_type": "code",
   "execution_count": 46,
   "metadata": {
    "collapsed": false,
    "scrolled": true
   },
   "outputs": [
    {
     "name": "stdout",
     "output_type": "stream",
     "text": [
      "[stdout]\n",
      "0x7667ff464732401b83916c6c3105c604\n",
      "[stderr]\n"
     ]
    }
   ],
   "source": [
    "run(\"layout='data/layouts/smallGrid.lay' arch='conv_net' state_repr='stack' output='result' python test_Qlearn.py\")"
   ]
  },
  {
   "cell_type": "markdown",
   "metadata": {},
   "source": [
    "## Batch Laucher"
   ]
  },
  {
   "cell_type": "code",
   "execution_count": 50,
   "metadata": {
    "collapsed": false
   },
   "outputs": [
    {
     "name": "stdout",
     "output_type": "stream",
     "text": [
      "[stdout]\n",
      "0xac136b3f14e7425daa8b8f6d6f8f48fc\n",
      "[stderr]\n",
      "[stdout]\n",
      "0xff35bc0de172429d92d9a1245c02e523\n",
      "[stderr]\n",
      "[stdout]\n",
      "0x8c20837b31944726b4bc1f41bb379246\n",
      "[stderr]\n",
      "[stdout]\n",
      "0x8eed2dcdb5ca49b6afcf9211092b9926\n",
      "[stderr]\n"
     ]
    }
   ],
   "source": [
    "for layout in ['smallClassic']:\n",
    "    for arch in ['conv_net', 'two_layer']:\n",
    "        for state_repr in ['stack', '3-frames']:\n",
    "            run(\"layout='data/layouts/%(layout)s.lay' arch='%(arch)s' state_repr='%(state_repr)s' output='result' python test_Qlearn.py\" \n",
    "               % dict(layout=layout, arch=arch, state_repr=state_repr))"
   ]
  },
  {
   "cell_type": "markdown",
   "metadata": {},
   "source": [
    "## Small Classic Layout"
   ]
  },
  {
   "cell_type": "markdown",
   "metadata": {},
   "source": [
    "### two-layer architecture with directional features"
   ]
  },
  {
   "cell_type": "code",
   "execution_count": 39,
   "metadata": {
    "collapsed": false,
    "scrolled": false
   },
   "outputs": [
    {
     "name": "stdout",
     "output_type": "stream",
     "text": [
      "0x5e1e71d3364747e49409048da73397fa\r\n"
     ]
    }
   ],
   "source": [
    "!cl run test_Qlearn.py:test_Qlearn.py pyrl:pyrl \"THEANO_FLAGS=blas.ldflags=-lopenblas layout=$layout arch='two_layer'\\\n",
    "state_repr='stack' python test_Qlearn.py\""
   ]
  },
  {
   "cell_type": "markdown",
   "metadata": {},
   "source": [
    "### conv-net architecture with directional features"
   ]
  },
  {
   "cell_type": "code",
   "execution_count": 40,
   "metadata": {
    "collapsed": false
   },
   "outputs": [
    {
     "name": "stdout",
     "output_type": "stream",
     "text": [
      "0x6da6f4b96e4f4247a74093af3cef7884\n"
     ]
    }
   ],
   "source": [
    "%%bash\n",
    "cl run test_Qlearn.py:test_Qlearn.py pyrl:pyrl \"THEANO_FLAGS=blas.ldflags=-lopenblas layout=$layout arch='conv_net' \\\n",
    "output='conv-net-test.result' state_repr='stack' python test_Qlearn.py\""
   ]
  },
  {
   "cell_type": "markdown",
   "metadata": {},
   "source": [
    "### two-layer with past 4 frames"
   ]
  },
  {
   "cell_type": "code",
   "execution_count": 6,
   "metadata": {
    "collapsed": false
   },
   "outputs": [
    {
     "name": "stdout",
     "output_type": "stream",
     "text": [
      "0x2a02496bf1904c76b8f2b924378b1d9c\n"
     ]
    }
   ],
   "source": [
    "%%bash\n",
    "cl run test_Qlearn.py:test_Qlearn.py pyrl:pyrl \"THEANO_FLAGS=blas.ldflags=-lopenblas layout=$layout arch='two_layer' \\\n",
    "output='two-layer-4-frames.result' state_repr='4-frames' python test_Qlearn.py\""
   ]
  },
  {
   "cell_type": "markdown",
   "metadata": {},
   "source": [
    "### conv-net with past 4 frames"
   ]
  },
  {
   "cell_type": "code",
   "execution_count": 10,
   "metadata": {
    "collapsed": false
   },
   "outputs": [
    {
     "name": "stdout",
     "output_type": "stream",
     "text": [
      "1, 3\n",
      "1, 10\n",
      "1, 30\n",
      "1, 100\n",
      "2, 3\n",
      "2, 10\n",
      "2, 30\n",
      "2, 100\n",
      "3, 3\n",
      "3, 10\n",
      "3, 30\n",
      "3, 100\n",
      "4, 3\n",
      "4, 10\n",
      "4, 30\n",
      "4, 100\n"
     ]
    }
   ],
   "source": [
    "%%bash\n",
    "cl run test_Qlearn.py:test_Qlearn.py pyrl:pyrl \"THEANO_FLAGS=blas.ldflags=-lopenblas layout=$layout arch='conv_net' \\\n",
    "output='conv-net-4-frames.result' state_repr='4-frames' python test_Qlearn.py\""
   ]
  },
  {
   "cell_type": "code",
   "execution_count": null,
   "metadata": {
    "collapsed": true
   },
   "outputs": [],
   "source": []
  }
 ],
 "metadata": {
  "kernelspec": {
   "display_name": "Python 2",
   "language": "python",
   "name": "python2"
  },
  "language_info": {
   "codemirror_mode": {
    "name": "ipython",
    "version": 2
   },
   "file_extension": ".py",
   "mimetype": "text/x-python",
   "name": "python",
   "nbconvert_exporter": "python",
   "pygments_lexer": "ipython2",
   "version": "2.7.10"
  }
 },
 "nbformat": 4,
 "nbformat_minor": 0
}
