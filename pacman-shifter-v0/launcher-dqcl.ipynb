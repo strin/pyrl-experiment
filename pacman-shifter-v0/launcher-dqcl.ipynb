{
 "cells": [
  {
   "cell_type": "code",
   "execution_count": 5,
   "metadata": {
    "collapsed": false
   },
   "outputs": [
    {
     "name": "stdout",
     "output_type": "stream",
     "text": [
      "Switched to worksheet http://localhost:12800::pacman-shifter-v0-num-ghosts(0x0c909ec072644645a4df1bdf3c817503).\r\n"
     ]
    }
   ],
   "source": [
    "!cl work http://localhost:12800::pacman-shifter-v0-num-ghosts"
   ]
  },
  {
   "cell_type": "code",
   "execution_count": 6,
   "metadata": {
    "collapsed": false
   },
   "outputs": [
    {
     "name": "stdout",
     "output_type": "stream",
     "text": [
      "Uploading /Users/tianlins/.codalab/temp/tmp5oB89Q.zip to http://localhost:12800: 397K [done]\n",
      "0xd24851815f4b4bef8c2a12685063ec49\n"
     ]
    }
   ],
   "source": [
    "!cl upload program ../../pyrl"
   ]
  },
  {
   "cell_type": "code",
   "execution_count": 7,
   "metadata": {
    "collapsed": false
   },
   "outputs": [
    {
     "name": "stdout",
     "output_type": "stream",
     "text": [
      "Uploading /Users/tianlins/.codalab/temp/tmpDJpOex.zip to http://localhost:12800: 1021 [done]\n",
      "0x688b3a7ce631444495d6b0bf48786e60\n"
     ]
    }
   ],
   "source": [
    "!cl upload program test_num_ghosts.py"
   ]
  },
  {
   "cell_type": "code",
   "execution_count": 9,
   "metadata": {
    "collapsed": false
   },
   "outputs": [
    {
     "name": "stdout",
     "output_type": "stream",
     "text": [
      "0xd43b78eae63a486aa3e6e536a797f8e6\n",
      "0x233531136cdd45a7aae4ed514431a150\n",
      "0x08be3715331a45e5981328dfc68c832c\n",
      "0x046f287b8f97478882893a7531386a71\n",
      "0x13256fdbdf05487f8460fecc77b1fae7\n",
      "0x2d1c8e75650c4924b69efed74a974c77\n",
      "0x2696c815601347c1b6e2440b672ff552\n",
      "0x4b5f8836907e4014960be7ce1638ec09\n",
      "0x91ef6a112d4d497b9c14505ec67bc940\n",
      "0x3ab661e2424343febbf97fda99eb94a3\n",
      "0xca5a185de94041d2b96680653cf4f6e5\n",
      "0xae5c1507a37049f5993c41ec9ed13e24\n",
      "0x67761292a7214738a36084cfe0eaebcd\n",
      "0x907c38e188454ebe84ada26651d24592\n",
      "0x3c5ade11d8fa4612b272f31cd68871ad\n",
      "0x487ccb844cad49c18e474e1a5cabe839\n",
      "0xd65478264a654a9d986d9ce862dcb562\n",
      "0x2074dcf0fa8a43bc820bb3ecd6820671\n",
      "0xf521dc0ba4ed4ee68ef5a05d59aff2e5\n",
      "0x509900088c8141018ff29b10ad0f939f\n",
      "0x007d33d729cd4a32896bdf19aff52d18\n",
      "0x7245d6396ee44105a4bbe7bc4430b8db\n",
      "0xb73629a10153499e89ffd9f7c4d68ce6\n",
      "0xd9e0bd1087ed4b229514cfe660288c9e\n",
      "0xa5d46d9953924530b8f13cd5bc8d3f02\n"
     ]
    }
   ],
   "source": [
    "%%bash\n",
    "for num_ghosts in `seq 1 5`\n",
    "do\n",
    "    for num_episodes in 3 10 30 50 100 \n",
    "    do\n",
    "        cl run test.py:test_num_ghosts.py pyrl:pyrl \"THEANO_FLAGS=blas.ldflags=-lopenblas num_ghosts=$num_ghosts num_episodes=$num_episodes python test.py\"\n",
    "    done\n",
    "done"
   ]
  },
  {
   "cell_type": "code",
   "execution_count": null,
   "metadata": {
    "collapsed": true
   },
   "outputs": [],
   "source": []
  }
 ],
 "metadata": {
  "kernelspec": {
   "display_name": "Python 2",
   "language": "python",
   "name": "python2"
  },
  "language_info": {
   "codemirror_mode": {
    "name": "ipython",
    "version": 2
   },
   "file_extension": ".py",
   "mimetype": "text/x-python",
   "name": "python",
   "nbconvert_exporter": "python",
   "pygments_lexer": "ipython2",
   "version": "2.7.10"
  }
 },
 "nbformat": 4,
 "nbformat_minor": 0
}
