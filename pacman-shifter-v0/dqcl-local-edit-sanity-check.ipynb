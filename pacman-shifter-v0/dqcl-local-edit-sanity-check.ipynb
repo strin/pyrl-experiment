{
 "cells": [
  {
   "cell_type": "code",
   "execution_count": 123,
   "metadata": {
    "collapsed": false
   },
   "outputs": [],
   "source": [
    "%matplotlib inline\n",
    "import matplotlib.pyplot as plt\n",
    "import sys\n",
    "sys.path.append('../../')\n",
    "import numpy as np\n",
    "from pyrl.tasks.pacman.game_mdp import *\n",
    "from pyrl.tasks.pacman.ghostAgents import *\n",
    "import pyrl.tasks.pacman.graphicsDisplay as graphicsDisplay\n",
    "import pyrl.tasks.pacman.textDisplay as textDisplay\n",
    "from pyrl.utils import Timer\n",
    "from pyrl.prob import choice\n",
    "import pyrl.agents.arch as arch\n",
    "from pyrl.algorithms.valueiter import DeepQlearn\n",
    "from pyrl.algorithms.curriculum import *\n",
    "from pyrl.agents.agent import DQN\n",
    "from pyrl.evaluate import reward_stochastic\n",
    "import theano\n",
    "import theano.tensor as T\n",
    "import json"
   ]
  },
  {
   "cell_type": "markdown",
   "metadata": {},
   "source": [
    "## Test Components"
   ]
  },
  {
   "cell_type": "code",
   "execution_count": 124,
   "metadata": {
    "collapsed": true
   },
   "outputs": [],
   "source": [
    "_layout = layout.getLayout('pyrl/tasks/pacman/layouts/smallGrid.lay')\n",
    "ghostType = DirectionalGhost\n",
    "agents = [ghostType( i+1 ) for i in range(1)]\n",
    "#display = graphicsDisplay.PacmanGraphics(zoom=1.0, frameTime = 0.1)\n",
    "# display = textDisplay.PacmanGraphics()\n",
    "display = textDisplay.NullGraphics()\n",
    "task = PacmanTask(_layout, agents, display, state_repr='stack')"
   ]
  },
  {
   "cell_type": "code",
   "execution_count": 20,
   "metadata": {
    "collapsed": false
   },
   "outputs": [
    {
     "name": "stdout",
     "output_type": "stream",
     "text": [
      "feat {'#ghost': 1.0, 'bias': 1.0}\n"
     ]
    }
   ],
   "source": [
    "# pacman task feature.\n",
    "feat_func = PacmanTaskFeature.featurize_num_ghost\n",
    "feat_func(task)\n",
    "print 'feat', feat"
   ]
  },
  {
   "cell_type": "code",
   "execution_count": 12,
   "metadata": {
    "collapsed": true
   },
   "outputs": [],
   "source": [
    "# meta model tabular\n",
    "meta_model = MetaModelTabular(bonus=1., decay=0.7)\n",
    "meta_model.learn(feat, 3)"
   ]
  },
  {
   "cell_type": "code",
   "execution_count": 13,
   "metadata": {
    "collapsed": false
   },
   "outputs": [
    {
     "data": {
      "text/plain": [
       "1.9000000000000001"
      ]
     },
     "execution_count": 13,
     "metadata": {},
     "output_type": "execute_result"
    }
   ],
   "source": [
    "meta_model.get(feat)"
   ]
  },
  {
   "cell_type": "code",
   "execution_count": 16,
   "metadata": {
    "collapsed": true
   },
   "outputs": [],
   "source": [
    "# edit function.\n",
    "edit_func = lambda task: PacmanTaskShifter.neighbors(task, axis=['del_ghost', 'add_ghost'])"
   ]
  },
  {
   "cell_type": "code",
   "execution_count": 17,
   "metadata": {
    "collapsed": false
   },
   "outputs": [],
   "source": [
    "task_nb = edit_func(task)"
   ]
  },
  {
   "cell_type": "code",
   "execution_count": 19,
   "metadata": {
    "collapsed": false
   },
   "outputs": [
    {
     "name": "stdout",
     "output_type": "stream",
     "text": [
      "%%%%%%%\n",
      "% <   %\n",
      "% %%% %\n",
      "% %.  %\n",
      "%G%%% %\n",
      "%. G  %\n",
      "%%%%%%%\n",
      "Score: 0\n",
      "\n"
     ]
    }
   ],
   "source": [
    "print task_nb[1]"
   ]
  },
  {
   "cell_type": "code",
   "execution_count": 25,
   "metadata": {
    "collapsed": false
   },
   "outputs": [
    {
     "name": "stdout",
     "output_type": "stream",
     "text": [
      "feat {'#ghost': 2.0, 'bias': 1.0}\n"
     ]
    },
    {
     "data": {
      "text/plain": [
       "2.5300000000000002"
      ]
     },
     "execution_count": 25,
     "metadata": {},
     "output_type": "execute_result"
    }
   ],
   "source": [
    "feat_nb = feat_func(task_nb[1])\n",
    "print 'feat', feat_nb\n",
    "meta_model.learn(feat_nb, 3)\n",
    "meta_model.get(feat_nb)"
   ]
  },
  {
   "cell_type": "code",
   "execution_count": 26,
   "metadata": {
    "collapsed": false
   },
   "outputs": [
    {
     "data": {
      "text/plain": [
       "1.9000000000000001"
      ]
     },
     "execution_count": 26,
     "metadata": {},
     "output_type": "execute_result"
    }
   ],
   "source": [
    "meta_model.get(feat)"
   ]
  },
  {
   "cell_type": "markdown",
   "metadata": {},
   "source": [
    "## Test Basic Learning"
   ]
  },
  {
   "cell_type": "code",
   "execution_count": 125,
   "metadata": {
    "collapsed": true
   },
   "outputs": [],
   "source": [
    "input_dim = task.state_shape\n",
    "\n",
    "def two_layer(states):\n",
    "    state_vecs = states.flatten(2)\n",
    "    return arch.two_layer(state_vecs, np.prod(task.state_shape), 128, task.num_actions)\n",
    "    \n",
    "_layout = layout.getLayout('pyrl/tasks/pacman/layouts/smallGrid.lay')\n",
    "ghostType = DirectionalGhost\n",
    "agents = [ghostType( i+1 ) for i in range(1)]\n",
    "#display = graphicsDisplay.PacmanGraphics(zoom=1.0, frameTime = 0.1)\n",
    "# display = textDisplay.PacmanGraphics()\n",
    "display = textDisplay.NullGraphics()\n",
    "task = PacmanTask(_layout, agents, display, state_repr='stack')"
   ]
  },
  {
   "cell_type": "code",
   "execution_count": 126,
   "metadata": {
    "collapsed": false
   },
   "outputs": [],
   "source": [
    "dqn = DQN(task, arch_func=two_layer, state_type=T.tensor4)\n",
    "feat_func = PacmanTaskFeature.featurize_num_ghost\n",
    "edit_func = lambda task: PacmanTaskShifter.neighbors(task, axis=['del_ghost', 'add_ghost'])\n",
    "meta_model = MetaModelTabular(bonus=100., decay=0.4)"
   ]
  },
  {
   "cell_type": "code",
   "execution_count": 127,
   "metadata": {
    "collapsed": true
   },
   "outputs": [],
   "source": [
    "learner = DQCL_LocalEdit(dqn, edit_func, feat_func, meta_model, gamma=0.95, lr=1e-3, memory_size = 100, epsilon=0.5)"
   ]
  },
  {
   "cell_type": "code",
   "execution_count": 129,
   "metadata": {
    "collapsed": false,
    "scrolled": false
   },
   "outputs": [
    {
     "name": "stdout",
     "output_type": "stream",
     "text": [
      "val 28.5238333332\n",
      "val_nb [100.0, 121.03841629366713, 48.544690727404785]\n",
      "probability [  7.29679080e-10   9.99999999e-01   3.28378726e-32]\n",
      "new_task %%%%%%%\n",
      "% <   %\n",
      "% %%% %\n",
      "% %.  %\n",
      "%G%%% %\n",
      "%. G  %\n",
      "%%%%%%%\n",
      "Score: 0\n",
      "\n",
      "val 21.3280195369\n",
      "val_nb [48.544690727404785, 48.544690727404785, 100.0, 61.212178239611859]\n",
      "probability [  4.50031712e-23   4.50031712e-23   1.00000000e+00   1.42778575e-17]\n",
      "new_task %%%%%%%\n",
      "% <   %\n",
      "% %%% %\n",
      "%G%.  %\n",
      "%G%%% %\n",
      "%. G  %\n",
      "%%%%%%%\n",
      "Score: 0\n",
      "\n",
      "val 20.0434801539\n",
      "val_nb [61.212178239611859, 61.212178239611859, 61.212178239611859, 100.0, 52.02608809231144]\n",
      "probability [  1.42778575e-17   1.42778575e-17   1.42778575e-17   1.00000000e+00\n",
      "   1.46283312e-21]\n",
      "new_task %%%%%%%\n",
      "% <   %\n",
      "%G%%% %\n",
      "%G%.  %\n",
      "%G%%% %\n",
      "%. G  %\n",
      "%%%%%%%\n",
      "Score: 0\n",
      "\n",
      "val 15.4024402007\n",
      "val_nb [52.02608809231144, 52.02608809231144, 52.02608809231144, 52.02608809231144, 100.0, 49.241464120394355]\n",
      "probability [  1.46283312e-21   1.46283312e-21   1.46283312e-21   1.46283312e-21\n",
      "   1.00000000e+00   9.03333171e-23]\n",
      "new_task %%%%%%%\n",
      "%G<   %\n",
      "%G%%% %\n",
      "%G%.  %\n",
      "%G%%% %\n",
      "%. G  %\n",
      "%%%%%%%\n",
      "Score: 0\n",
      "\n",
      "val 28.8713295945\n",
      "val_nb [49.241464120394355, 49.241464120394355, 49.241464120394355, 49.241464120394355, 49.241464120394355, 100.0, 57.322797756705384]\n",
      "probability [  9.03333171e-23   9.03333171e-23   9.03333171e-23   9.03333171e-23\n",
      "   9.03333171e-23   1.00000000e+00   2.92096641e-19]\n",
      "new_task %%%%%%%\n",
      "%G<   %\n",
      "%G%%% %\n",
      "%G%.  %\n",
      "%G%%% %\n",
      "%.GG  %\n",
      "%%%%%%%\n",
      "Score: 0\n",
      "\n",
      "val 55.3203632049\n",
      "val_nb [57.322797756705384, 57.322797756705384, 57.322797756705384, 57.322797756705384, 57.322797756705384, 57.322797756705384, 100.0, 73.1922179229243]\n",
      "probability [  2.92096641e-19   2.92096641e-19   2.92096641e-19   2.92096641e-19\n",
      "   2.92096641e-19   2.92096641e-19   1.00000000e+00   2.27786600e-12]\n",
      "new_task %%%%%%%\n",
      "%GG   %\n",
      "%G%%% %\n",
      "%G%.  %\n",
      "%G%%% %\n",
      "%.GG  %\n",
      "%%%%%%%\n",
      "Score: 0\n",
      "\n",
      "val 117.778042754\n",
      "val_nb [73.1922179229243, 73.1922179229243, 73.1922179229243, 73.1922179229243, 73.1922179229243, 73.1922179229243, 73.1922179229243, 100.0, 110.66682565243165]\n",
      "probability [  5.30853311e-17   5.30853311e-17   5.30853311e-17   5.30853311e-17\n",
      "   5.30853311e-17   5.30853311e-17   5.30853311e-17   2.33048525e-05\n",
      "   9.99976695e-01]\n",
      "new_task %%%%%%%\n",
      "%GG   %\n",
      "%G%%% %\n",
      "%G%.  %\n",
      "%G%%% %\n",
      "%.GG  %\n",
      "%%%%%%%\n",
      "Score: 0\n",
      "\n",
      "val 49.5192926259\n",
      "val_nb [73.1922179229243, 73.1922179229243, 73.1922179229243, 73.1922179229243, 73.1922179229243, 73.1922179229243, 73.1922179229243, 100.0, 73.978305836533494]\n",
      "probability [  2.27786600e-12   2.27786600e-12   2.27786600e-12   2.27786600e-12\n",
      "   2.27786600e-12   2.27786600e-12   2.27786600e-12   1.00000000e+00\n",
      "   4.99944523e-12]\n",
      "new_task %%%%%%%\n",
      "%GGG  %\n",
      "%G%%% %\n",
      "%G%.  %\n",
      "%G%%% %\n",
      "%.GG  %\n",
      "%%%%%%%\n",
      "Score: 0\n",
      "\n",
      "val 54.1173809363\n",
      "val_nb [73.978305836533494, 73.978305836533494, 73.978305836533494, 73.978305836533494, 73.978305836533494, 73.978305836533494, 73.978305836533494, 73.978305836533494, 100.0, 72.470428561766624]\n",
      "probability [  4.99944523e-12   4.99944523e-12   4.99944523e-12   4.99944523e-12\n",
      "   4.99944523e-12   4.99944523e-12   4.99944523e-12   4.99944523e-12\n",
      "   1.00000000e+00   1.10677422e-12]\n",
      "new_task %%%%%%%\n",
      "%GGG  %\n",
      "%G%%% %\n",
      "%G%.  %\n",
      "%G%%% %\n",
      "%.GGG %\n",
      "%%%%%%%\n",
      "Score: 0\n",
      "\n",
      "val 54.0123153868\n",
      "val_nb [72.470428561766624, 72.470428561766624, 72.470428561766624, 72.470428561766624, 72.470428561766624, 72.470428561766624, 72.470428561766624, 72.470428561766624, 72.470428561766624, 100.0, 72.407389232083716]\n",
      "probability [  1.10677422e-12   1.10677422e-12   1.10677422e-12   1.10677422e-12\n",
      "   1.10677422e-12   1.10677422e-12   1.10677422e-12   1.10677422e-12\n",
      "   1.10677422e-12   1.00000000e+00   1.03915756e-12]\n",
      "new_task %%%%%%%\n",
      "%GGG  %\n",
      "%G%%% %\n",
      "%G%.G %\n",
      "%G%%% %\n",
      "%.GGG %\n",
      "%%%%%%%\n",
      "Score: 0\n",
      "\n",
      "val 54.1380206298\n",
      "val_nb [72.407389232083716, 72.407389232083716, 72.407389232083716, 72.407389232083716, 72.407389232083716, 72.407389232083716, 72.407389232083716, 72.407389232083716, 72.407389232083716, 72.407389232083716, 100.0, 72.482812377889246]\n",
      "probability [  1.03915756e-12   1.03915756e-12   1.03915756e-12   1.03915756e-12\n",
      "   1.03915756e-12   1.03915756e-12   1.03915756e-12   1.03915756e-12\n",
      "   1.03915756e-12   1.03915756e-12   1.00000000e+00   1.12056553e-12]\n",
      "new_task %%%%%%%\n",
      "%GGGG %\n",
      "%G%%% %\n",
      "%G%.G %\n",
      "%G%%% %\n",
      "%.GGG %\n",
      "%%%%%%%\n",
      "Score: 0\n",
      "\n",
      "val 54.2130764519\n",
      "val_nb [72.482812377889246, 72.482812377889246, 72.482812377889246, 72.482812377889246, 72.482812377889246, 72.482812377889246, 72.482812377889246, 72.482812377889246, 72.482812377889246, 72.482812377889246, 72.482812377889246, 100.0, 72.527845871138695]\n",
      "probability [  1.12056553e-12   1.12056553e-12   1.12056553e-12   1.12056553e-12\n",
      "   1.12056553e-12   1.12056553e-12   1.12056553e-12   1.12056553e-12\n",
      "   1.12056553e-12   1.12056553e-12   1.12056553e-12   1.00000000e+00\n",
      "   1.17218202e-12]\n",
      "new_task %%%%%%%\n",
      "%GGGG %\n",
      "%G%%% %\n",
      "%G%.G %\n",
      "%G%%% %\n",
      "%.GGGG%\n",
      "%%%%%%%\n",
      "Score: 0\n",
      "\n",
      "val 54.3242864184\n",
      "val_nb [72.527845871138695, 72.527845871138695, 72.527845871138695, 72.527845871138695, 72.527845871138695, 72.527845871138695, 72.527845871138695, 72.527845871138695, 72.527845871138695, 72.527845871138695, 72.527845871138695, 72.527845871138695, 100.0, 72.594571851028064]\n",
      "probability [  1.17218202e-12   1.17218202e-12   1.17218202e-12   1.17218202e-12\n",
      "   1.17218202e-12   1.17218202e-12   1.17218202e-12   1.17218202e-12\n",
      "   1.17218202e-12   1.17218202e-12   1.17218202e-12   1.17218202e-12\n",
      "   1.00000000e+00   1.25306552e-12]\n",
      "new_task %%%%%%%\n",
      "%GGGG %\n",
      "%G%%% %\n",
      "%G%.G %\n",
      "%G%%%G%\n",
      "%.GGGG%\n",
      "%%%%%%%\n",
      "Score: 0\n",
      "\n",
      "val 58.8045071025\n",
      "val_nb [72.594571851028064, 72.594571851028064, 72.594571851028064, 72.594571851028064, 72.594571851028064, 72.594571851028064, 72.594571851028064, 72.594571851028064, 72.594571851028064, 72.594571851028064, 72.594571851028064, 72.594571851028064, 72.594571851028064, 100.0, 75.282704261474407]\n",
      "probability [  1.25306552e-12   1.25306552e-12   1.25306552e-12   1.25306552e-12\n",
      "   1.25306552e-12   1.25306552e-12   1.25306552e-12   1.25306552e-12\n",
      "   1.25306552e-12   1.25306552e-12   1.25306552e-12   1.25306552e-12\n",
      "   1.25306552e-12   1.00000000e+00   1.84253121e-11]\n",
      "new_task %%%%%%%\n",
      "%GGGG %\n",
      "%G%%% %\n",
      "%G%.GG%\n",
      "%G%%%G%\n",
      "%.GGGG%\n",
      "%%%%%%%\n",
      "Score: 0\n",
      "\n",
      "val 53.3545270338\n",
      "val_nb [75.282704261474407, 75.282704261474407, 75.282704261474407, 75.282704261474407, 75.282704261474407, 75.282704261474407, 75.282704261474407, 75.282704261474407, 75.282704261474407, 75.282704261474407, 75.282704261474407, 75.282704261474407, 75.282704261474407, 75.282704261474407, 100.0, 72.012716220285981]\n",
      "probability [  1.84253121e-11   1.84253121e-11   1.84253121e-11   1.84253121e-11\n",
      "   1.84253121e-11   1.84253121e-11   1.84253121e-11   1.84253121e-11\n",
      "   1.84253121e-11   1.84253121e-11   1.84253121e-11   1.84253121e-11\n",
      "   1.84253121e-11   1.84253121e-11   1.00000000e+00   7.00288655e-13]\n",
      "new_task %%%%%%%\n",
      "%GGGG %\n",
      "%G%%%G%\n",
      "%G%.GG%\n",
      "%G%%%G%\n",
      "%.GGGG%\n",
      "%%%%%%%\n",
      "Score: 0\n",
      "\n",
      "val 33.7666800738\n",
      "val_nb [72.012716220285981, 72.012716220285981, 72.012716220285981, 72.012716220285981, 72.012716220285981, 72.012716220285981, 72.012716220285981, 72.012716220285981, 72.012716220285981, 72.012716220285981, 72.012716220285981, 72.012716220285981, 72.012716220285981, 72.012716220285981, 72.012716220285981, 100.0, 60.260008044254221]\n",
      "probability [  7.00288656e-13   7.00288656e-13   7.00288656e-13   7.00288656e-13\n",
      "   7.00288656e-13   7.00288656e-13   7.00288656e-13   7.00288656e-13\n",
      "   7.00288656e-13   7.00288656e-13   7.00288656e-13   7.00288656e-13\n",
      "   7.00288656e-13   7.00288656e-13   7.00288656e-13   1.00000000e+00\n",
      "   5.50986278e-18]\n",
      "new_task %%%%%%%\n",
      "%GGGGG%\n",
      "%G%%%G%\n",
      "%G%.GG%\n",
      "%G%%%G%\n",
      "%.GGGG%\n",
      "%%%%%%%\n",
      "Score: 0\n",
      "\n",
      "val 42.245924691\n",
      "val_nb [60.260008044254221, 60.260008044254221, 60.260008044254221, 60.260008044254221, 60.260008044254221, 60.260008044254221, 60.260008044254221, 60.260008044254221, 60.260008044254221, 60.260008044254221, 60.260008044254221, 60.260008044254221, 60.260008044254221, 60.260008044254221, 60.260008044254221, 60.260008044254221, 65.347554814595298]\n",
      "probability [ 0.00561823  0.00561823  0.00561823  0.00561823  0.00561823  0.00561823\n",
      "  0.00561823  0.00561823  0.00561823  0.00561823  0.00561823  0.00561823\n",
      "  0.00561823  0.00561823  0.00561823  0.00561823  0.9101083 ]\n",
      "new_task %%%%%%%\n",
      "%GGGGG%\n",
      "%G%%%G%\n",
      "%G%.GG%\n",
      "%G%%%G%\n",
      "%.GGGG%\n",
      "%%%%%%%\n",
      "Score: 0\n",
      "\n",
      "val 42.245924691\n",
      "val_nb [60.260008044254221, 60.260008044254221, 60.260008044254221, 60.260008044254221, 60.260008044254221, 60.260008044254221, 60.260008044254221, 60.260008044254221, 60.260008044254221, 60.260008044254221, 60.260008044254221, 60.260008044254221, 60.260008044254221, 60.260008044254221, 60.260008044254221, 60.260008044254221, 51.486576740433392]\n",
      "probability [  6.24993954e-02   6.24993954e-02   6.24993954e-02   6.24993954e-02\n",
      "   6.24993954e-02   6.24993954e-02   6.24993954e-02   6.24993954e-02\n",
      "   6.24993954e-02   6.24993954e-02   6.24993954e-02   6.24993954e-02\n",
      "   6.24993954e-02   6.24993954e-02   6.24993954e-02   6.24993954e-02\n",
      "   9.67437713e-06]\n",
      "new_task %%%%%%%\n",
      "%GGGGG%\n",
      "%G%%% %\n",
      "%G%.GG%\n",
      "%G%%%G%\n",
      "%.GGGG%\n",
      "%%%%%%%\n",
      "Score: 0\n",
      "\n",
      "val 61.8337030843\n",
      "val_nb [72.012716220285981, 72.012716220285981, 72.012716220285981, 72.012716220285981, 72.012716220285981, 72.012716220285981, 72.012716220285981, 72.012716220285981, 72.012716220285981, 72.012716220285981, 72.012716220285981, 72.012716220285981, 72.012716220285981, 72.012716220285981, 72.012716220285981, 51.486576740433392, 61.204225068267725]\n",
      "probability [  6.66665768e-02   6.66665768e-02   6.66665768e-02   6.66665768e-02\n",
      "   6.66665768e-02   6.66665768e-02   6.66665768e-02   6.66665768e-02\n",
      "   6.66665768e-02   6.66665768e-02   6.66665768e-02   6.66665768e-02\n",
      "   6.66665768e-02   6.66665768e-02   6.66665768e-02   8.11930852e-11\n",
      "   1.34846628e-06]\n",
      "new_task %%%%%%%\n",
      "%GGGGG%\n",
      "% %%% %\n",
      "%G%.GG%\n",
      "%G%%%G%\n",
      "%.GGGG%\n",
      "%%%%%%%\n",
      "Score: 0\n",
      "\n",
      "val 77.0885786996\n",
      "val_nb [75.282704261474407, 75.282704261474407, 75.282704261474407, 75.282704261474407, 75.282704261474407, 75.282704261474407, 75.282704261474407, 75.282704261474407, 75.282704261474407, 75.282704261474407, 75.282704261474407, 75.282704261474407, 75.282704261474407, 75.282704261474407, 61.204225068267725, 75.05823370787904]\n",
      "probability [  6.75724078e-02   6.75724078e-02   6.75724078e-02   6.75724078e-02\n",
      "   6.75724078e-02   6.75724078e-02   6.75724078e-02   6.75724078e-02\n",
      "   6.75724078e-02   6.75724078e-02   6.75724078e-02   6.75724078e-02\n",
      "   6.75724078e-02   6.75724078e-02   5.19473703e-08   5.39862388e-02]\n",
      "new_task %%%%%%%\n",
      "% GGGG%\n",
      "% %%% %\n",
      "%G%.GG%\n",
      "%G%%%G%\n",
      "%.GGGG%\n",
      "%%%%%%%\n",
      "Score: 0\n",
      "\n",
      "val 94.7357209069\n",
      "val_nb [72.594571851028064, 72.594571851028064, 72.594571851028064, 72.594571851028064, 72.594571851028064, 72.594571851028064, 72.594571851028064, 72.594571851028064, 72.594571851028064, 72.594571851028064, 72.594571851028064, 72.594571851028064, 72.594571851028064, 75.05823370787904, 86.954514248743706]\n",
      "probability [  5.80162990e-07   5.80162990e-07   5.80162990e-07   5.80162990e-07\n",
      "   5.80162990e-07   5.80162990e-07   5.80162990e-07   5.80162990e-07\n",
      "   5.80162990e-07   5.80162990e-07   5.80162990e-07   5.80162990e-07\n",
      "   5.80162990e-07   6.81561061e-06   9.99985642e-01]\n",
      "new_task %%%%%%%\n",
      "% GGGG%\n",
      "% %%% %\n",
      "%G%.GG%\n",
      "%G%%%G%\n",
      "%.GGGG%\n",
      "%%%%%%%\n",
      "Score: 0\n",
      "\n"
     ]
    },
    {
     "ename": "Exception",
     "evalue": "Illegal ghost action North",
     "output_type": "error",
     "traceback": [
      "\u001b[0;31m---------------------------------------------------------------------------\u001b[0m",
      "\u001b[0;31mException\u001b[0m                                 Traceback (most recent call last)",
      "\u001b[0;32m<ipython-input-129-ec24d8e739dc>\u001b[0m in \u001b[0;36m<module>\u001b[0;34m()\u001b[0m\n\u001b[0;32m----> 1\u001b[0;31m \u001b[0mlearner\u001b[0m\u001b[0;34m.\u001b[0m\u001b[0mrun\u001b[0m\u001b[0;34m(\u001b[0m\u001b[0mtask\u001b[0m\u001b[0;34m,\u001b[0m \u001b[0mnum_epochs\u001b[0m\u001b[0;34m=\u001b[0m\u001b[0;36m30\u001b[0m\u001b[0;34m,\u001b[0m \u001b[0mnum_episodes\u001b[0m\u001b[0;34m=\u001b[0m\u001b[0;36m30\u001b[0m\u001b[0;34m,\u001b[0m \u001b[0mtol\u001b[0m\u001b[0;34m=\u001b[0m\u001b[0;36m1e-4\u001b[0m\u001b[0;34m)\u001b[0m\u001b[0;34m\u001b[0m\u001b[0m\n\u001b[0m",
      "\u001b[0;32m/Users/tianlins/Project/curriculum/src/rl/pyrl/algorithms/curriculum.py\u001b[0m in \u001b[0;36mrun\u001b[0;34m(self, task, num_epochs, num_episodes, tol)\u001b[0m\n\u001b[1;32m    215\u001b[0m         \u001b[0;32mfor\u001b[0m \u001b[0mei\u001b[0m \u001b[0;32min\u001b[0m \u001b[0mrange\u001b[0m\u001b[0;34m(\u001b[0m\u001b[0mnum_epochs\u001b[0m\u001b[0;34m)\u001b[0m\u001b[0;34m:\u001b[0m\u001b[0;34m\u001b[0m\u001b[0m\n\u001b[1;32m    216\u001b[0m             \u001b[0;31m# run DQN on task for #episodes.\u001b[0m\u001b[0;34m\u001b[0m\u001b[0;34m\u001b[0m\u001b[0m\n\u001b[0;32m--> 217\u001b[0;31m             \u001b[0mself\u001b[0m\u001b[0;34m.\u001b[0m\u001b[0mrun_task\u001b[0m\u001b[0;34m(\u001b[0m\u001b[0mtask\u001b[0m\u001b[0;34m,\u001b[0m \u001b[0mnum_episodes\u001b[0m\u001b[0;34m=\u001b[0m\u001b[0mnum_episodes\u001b[0m\u001b[0;34m,\u001b[0m \u001b[0mtol\u001b[0m\u001b[0;34m=\u001b[0m\u001b[0mtol\u001b[0m\u001b[0;34m)\u001b[0m\u001b[0;34m\u001b[0m\u001b[0m\n\u001b[0m\u001b[1;32m    218\u001b[0m             \u001b[0mtask\u001b[0m\u001b[0;34m.\u001b[0m\u001b[0mreset\u001b[0m\u001b[0;34m(\u001b[0m\u001b[0;34m)\u001b[0m\u001b[0;34m\u001b[0m\u001b[0m\n\u001b[1;32m    219\u001b[0m \u001b[0;34m\u001b[0m\u001b[0m\n",
      "\u001b[0;32m/Users/tianlins/Project/curriculum/src/rl/pyrl/algorithms/curriculum.py\u001b[0m in \u001b[0;36mrun_task\u001b[0;34m(self, task, num_episodes, tol)\u001b[0m\n\u001b[1;32m    265\u001b[0m                 \u001b[0mself\u001b[0m\u001b[0;34m.\u001b[0m\u001b[0mlast_action\u001b[0m \u001b[0;34m=\u001b[0m \u001b[0maction\u001b[0m\u001b[0;34m\u001b[0m\u001b[0m\n\u001b[1;32m    266\u001b[0m \u001b[0;34m\u001b[0m\u001b[0m\n\u001b[0;32m--> 267\u001b[0;31m                 \u001b[0mreward\u001b[0m \u001b[0;34m=\u001b[0m \u001b[0mtask\u001b[0m\u001b[0;34m.\u001b[0m\u001b[0mstep\u001b[0m\u001b[0;34m(\u001b[0m\u001b[0maction\u001b[0m\u001b[0;34m)\u001b[0m\u001b[0;34m\u001b[0m\u001b[0m\n\u001b[0m\u001b[1;32m    268\u001b[0m                 \u001b[0mnext_state\u001b[0m \u001b[0;34m=\u001b[0m \u001b[0mtask\u001b[0m\u001b[0;34m.\u001b[0m\u001b[0mcurr_state\u001b[0m\u001b[0;34m\u001b[0m\u001b[0m\n\u001b[1;32m    269\u001b[0m \u001b[0;34m\u001b[0m\u001b[0m\n",
      "\u001b[0;32m/Users/tianlins/Project/curriculum/src/rl/pyrl/tasks/pacman/game_mdp.py\u001b[0m in \u001b[0;36mstep\u001b[0;34m(self, action)\u001b[0m\n\u001b[1;32m    185\u001b[0m         \u001b[0;31m# run the game using the direction.\u001b[0m\u001b[0;34m\u001b[0m\u001b[0;34m\u001b[0m\u001b[0m\n\u001b[1;32m    186\u001b[0m         \u001b[0mself\u001b[0m\u001b[0;34m.\u001b[0m\u001b[0mmyagent\u001b[0m\u001b[0;34m.\u001b[0m\u001b[0mnext_action\u001b[0m \u001b[0;34m=\u001b[0m \u001b[0mdirection\u001b[0m\u001b[0;34m\u001b[0m\u001b[0m\n\u001b[0;32m--> 187\u001b[0;31m         \u001b[0mself\u001b[0m\u001b[0;34m.\u001b[0m\u001b[0mgame\u001b[0m\u001b[0;34m.\u001b[0m\u001b[0mrun_one\u001b[0m\u001b[0;34m(\u001b[0m\u001b[0;34m)\u001b[0m\u001b[0;34m\u001b[0m\u001b[0m\n\u001b[0m\u001b[1;32m    188\u001b[0m         \u001b[0mnew_score\u001b[0m \u001b[0;34m=\u001b[0m \u001b[0mself\u001b[0m\u001b[0;34m.\u001b[0m\u001b[0mgame\u001b[0m\u001b[0;34m.\u001b[0m\u001b[0mstate\u001b[0m\u001b[0;34m.\u001b[0m\u001b[0mdata\u001b[0m\u001b[0;34m.\u001b[0m\u001b[0mscore\u001b[0m\u001b[0;34m\u001b[0m\u001b[0m\n\u001b[1;32m    189\u001b[0m         \u001b[0mreward\u001b[0m \u001b[0;34m=\u001b[0m \u001b[0mnew_score\u001b[0m \u001b[0;34m-\u001b[0m \u001b[0mold_score\u001b[0m\u001b[0;34m\u001b[0m\u001b[0m\n",
      "\u001b[0;32m/Users/tianlins/Project/curriculum/src/rl/pyrl/tasks/pacman/game.py\u001b[0m in \u001b[0;36mrun_one\u001b[0;34m(self)\u001b[0m\n\u001b[1;32m    689\u001b[0m                     \u001b[0;32mreturn\u001b[0m\u001b[0;34m\u001b[0m\u001b[0m\n\u001b[1;32m    690\u001b[0m             \u001b[0;32melse\u001b[0m\u001b[0;34m:\u001b[0m\u001b[0;34m\u001b[0m\u001b[0m\n\u001b[0;32m--> 691\u001b[0;31m                 \u001b[0mself\u001b[0m\u001b[0;34m.\u001b[0m\u001b[0mstate\u001b[0m \u001b[0;34m=\u001b[0m \u001b[0mself\u001b[0m\u001b[0;34m.\u001b[0m\u001b[0mstate\u001b[0m\u001b[0;34m.\u001b[0m\u001b[0mgenerateSuccessor\u001b[0m\u001b[0;34m(\u001b[0m \u001b[0magentIndex\u001b[0m\u001b[0;34m,\u001b[0m \u001b[0maction\u001b[0m \u001b[0;34m)\u001b[0m\u001b[0;34m\u001b[0m\u001b[0m\n\u001b[0m\u001b[1;32m    692\u001b[0m \u001b[0;34m\u001b[0m\u001b[0m\n\u001b[1;32m    693\u001b[0m             \u001b[0;31m# Change the display\u001b[0m\u001b[0;34m\u001b[0m\u001b[0;34m\u001b[0m\u001b[0m\n",
      "\u001b[0;32m/Users/tianlins/Project/curriculum/src/rl/pyrl/tasks/pacman/pacman.pyc\u001b[0m in \u001b[0;36mgenerateSuccessor\u001b[0;34m(self, agentIndex, action)\u001b[0m\n\u001b[1;32m    102\u001b[0m             \u001b[0mPacmanRules\u001b[0m\u001b[0;34m.\u001b[0m\u001b[0mapplyAction\u001b[0m\u001b[0;34m(\u001b[0m \u001b[0mstate\u001b[0m\u001b[0;34m,\u001b[0m \u001b[0maction\u001b[0m \u001b[0;34m)\u001b[0m\u001b[0;34m\u001b[0m\u001b[0m\n\u001b[1;32m    103\u001b[0m         \u001b[0;32melse\u001b[0m\u001b[0;34m:\u001b[0m                \u001b[0;31m# A ghost is moving\u001b[0m\u001b[0;34m\u001b[0m\u001b[0m\n\u001b[0;32m--> 104\u001b[0;31m             \u001b[0mGhostRules\u001b[0m\u001b[0;34m.\u001b[0m\u001b[0mapplyAction\u001b[0m\u001b[0;34m(\u001b[0m \u001b[0mstate\u001b[0m\u001b[0;34m,\u001b[0m \u001b[0maction\u001b[0m\u001b[0;34m,\u001b[0m \u001b[0magentIndex\u001b[0m \u001b[0;34m)\u001b[0m\u001b[0;34m\u001b[0m\u001b[0m\n\u001b[0m\u001b[1;32m    105\u001b[0m \u001b[0;34m\u001b[0m\u001b[0m\n\u001b[1;32m    106\u001b[0m         \u001b[0;31m# Time passes\u001b[0m\u001b[0;34m\u001b[0m\u001b[0;34m\u001b[0m\u001b[0m\n",
      "\u001b[0;32m/Users/tianlins/Project/curriculum/src/rl/pyrl/tasks/pacman/pacman.pyc\u001b[0m in \u001b[0;36mapplyAction\u001b[0;34m(state, action, ghostIndex)\u001b[0m\n\u001b[1;32m    397\u001b[0m         \u001b[0mlegal\u001b[0m \u001b[0;34m=\u001b[0m \u001b[0mGhostRules\u001b[0m\u001b[0;34m.\u001b[0m\u001b[0mgetLegalActions\u001b[0m\u001b[0;34m(\u001b[0m \u001b[0mstate\u001b[0m\u001b[0;34m,\u001b[0m \u001b[0mghostIndex\u001b[0m \u001b[0;34m)\u001b[0m\u001b[0;34m\u001b[0m\u001b[0m\n\u001b[1;32m    398\u001b[0m         \u001b[0;32mif\u001b[0m \u001b[0maction\u001b[0m \u001b[0;32mnot\u001b[0m \u001b[0;32min\u001b[0m \u001b[0mlegal\u001b[0m\u001b[0;34m:\u001b[0m\u001b[0;34m\u001b[0m\u001b[0m\n\u001b[0;32m--> 399\u001b[0;31m             \u001b[0;32mraise\u001b[0m \u001b[0mException\u001b[0m\u001b[0;34m(\u001b[0m\u001b[0;34m\"Illegal ghost action \"\u001b[0m \u001b[0;34m+\u001b[0m \u001b[0mstr\u001b[0m\u001b[0;34m(\u001b[0m\u001b[0maction\u001b[0m\u001b[0;34m)\u001b[0m\u001b[0;34m)\u001b[0m\u001b[0;34m\u001b[0m\u001b[0m\n\u001b[0m\u001b[1;32m    400\u001b[0m \u001b[0;34m\u001b[0m\u001b[0m\n\u001b[1;32m    401\u001b[0m         \u001b[0mghostState\u001b[0m \u001b[0;34m=\u001b[0m \u001b[0mstate\u001b[0m\u001b[0;34m.\u001b[0m\u001b[0mdata\u001b[0m\u001b[0;34m.\u001b[0m\u001b[0magentStates\u001b[0m\u001b[0;34m[\u001b[0m\u001b[0mghostIndex\u001b[0m\u001b[0;34m]\u001b[0m\u001b[0;34m\u001b[0m\u001b[0m\n",
      "\u001b[0;31mException\u001b[0m: Illegal ghost action North"
     ]
    }
   ],
   "source": [
    "learner.run(task, num_epochs=30, num_episodes=30, tol=1e-4)"
   ]
  },
  {
   "cell_type": "code",
   "execution_count": 131,
   "metadata": {
    "collapsed": false
   },
   "outputs": [
    {
     "name": "stdout",
     "output_type": "stream",
     "text": [
      "{'{\"#ghost\": 15.0, \"bias\": 1.0}': 61.204225068267725, '{\"#ghost\": 2.0, \"bias\": 1.0}': 61.212178239611859, '{\"#ghost\": 14.0, \"bias\": 1.0}': 75.05823370787904, '{\"#ghost\": 4.0, \"bias\": 1.0}': 49.241464120394355, '{\"#ghost\": 1.0, \"bias\": 1.0}': 48.544690727404785, '{\"#ghost\": 16.0, \"bias\": 1.0}': 51.486576740433392, '{\"#ghost\": 3.0, \"bias\": 1.0}': 52.02608809231144, '{\"#ghost\": 11.0, \"bias\": 1.0}': 72.527845871138695, '{\"#ghost\": 12.0, \"bias\": 1.0}': 72.594571851028064, '{\"#ghost\": 7.0, \"bias\": 1.0}': 73.978305836533494, '{\"#ghost\": 6.0, \"bias\": 1.0}': 73.1922179229243, '{\"#ghost\": 13.0, \"bias\": 1.0}': 86.954514248743706, '{\"#ghost\": 8.0, \"bias\": 1.0}': 72.470428561766624, '{\"#ghost\": 5.0, \"bias\": 1.0}': 57.322797756705384, '{\"#ghost\": 10.0, \"bias\": 1.0}': 72.482812377889246, '{\"#ghost\": 9.0, \"bias\": 1.0}': 72.407389232083716}\n"
     ]
    }
   ],
   "source": [
    "print learner.meta_model.model"
   ]
  },
  {
   "cell_type": "code",
   "execution_count": null,
   "metadata": {
    "collapsed": true
   },
   "outputs": [],
   "source": []
  }
 ],
 "metadata": {
  "kernelspec": {
   "display_name": "Python 2",
   "language": "python",
   "name": "python2"
  },
  "language_info": {
   "codemirror_mode": {
    "name": "ipython",
    "version": 2
   },
   "file_extension": ".py",
   "mimetype": "text/x-python",
   "name": "python",
   "nbconvert_exporter": "python",
   "pygments_lexer": "ipython2",
   "version": "2.7.10"
  }
 },
 "nbformat": 4,
 "nbformat_minor": 0
}
